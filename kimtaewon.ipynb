{
  "nbformat": 4,
  "nbformat_minor": 0,
  "metadata": {
    "colab": {
      "name": "kimtaewon.ipynb",
      "provenance": [],
      "collapsed_sections": []
    },
    "kernelspec": {
      "name": "python3",
      "display_name": "Python 3"
    },
    "language_info": {
      "name": "python"
    }
  },
  "cells": [
    {
      "cell_type": "markdown",
      "metadata": {
        "id": "RALvbmB5iF3l"
      },
      "source": [
        "## [DE 개발 사전 과제 - 신입](https://www.notion.so/DE-844fea84b1624c9fa459ebdf51a122fd)\n",
        "\n",
        "- 데이터 전처리 빼기"
      ]
    },
    {
      "cell_type": "markdown",
      "metadata": {
        "id": "ZuveB0WZiIzE"
      },
      "source": [
        "### 라이브러리 "
      ]
    },
    {
      "cell_type": "code",
      "metadata": {
        "id": "Q3IZqwOrempW"
      },
      "source": [
        "import pandas as pd\n",
        "import numpy as np\n",
        "import datetime\n",
        "import matplotlib.pyplot as plt"
      ],
      "execution_count": 38,
      "outputs": []
    },
    {
      "cell_type": "markdown",
      "metadata": {
        "id": "LrHLoLWviLzC"
      },
      "source": [
        "### 데이터 읽어오기"
      ]
    },
    {
      "cell_type": "code",
      "metadata": {
        "id": "R4vsI4TFd0jW",
        "colab": {
          "base_uri": "https://localhost:8080/",
          "height": 287
        },
        "outputId": "64d3bf67-27ef-4b81-da38-c74afc8ef1e4"
      },
      "source": [
        "nov_data = pd.read_csv('/content/drive/MyDrive/Colab Notebooks/2019-Nov.csv',nrows =1000000)\n",
        "nov_data.head()"
      ],
      "execution_count": 39,
      "outputs": [
        {
          "output_type": "execute_result",
          "data": {
            "text/html": [
              "<div>\n",
              "<style scoped>\n",
              "    .dataframe tbody tr th:only-of-type {\n",
              "        vertical-align: middle;\n",
              "    }\n",
              "\n",
              "    .dataframe tbody tr th {\n",
              "        vertical-align: top;\n",
              "    }\n",
              "\n",
              "    .dataframe thead th {\n",
              "        text-align: right;\n",
              "    }\n",
              "</style>\n",
              "<table border=\"1\" class=\"dataframe\">\n",
              "  <thead>\n",
              "    <tr style=\"text-align: right;\">\n",
              "      <th></th>\n",
              "      <th>event_time</th>\n",
              "      <th>event_type</th>\n",
              "      <th>product_id</th>\n",
              "      <th>category_id</th>\n",
              "      <th>category_code</th>\n",
              "      <th>brand</th>\n",
              "      <th>price</th>\n",
              "      <th>user_id</th>\n",
              "      <th>user_session</th>\n",
              "    </tr>\n",
              "  </thead>\n",
              "  <tbody>\n",
              "    <tr>\n",
              "      <th>0</th>\n",
              "      <td>2019-11-01 00:00:00 UTC</td>\n",
              "      <td>view</td>\n",
              "      <td>1003461</td>\n",
              "      <td>2053013555631882655</td>\n",
              "      <td>electronics.smartphone</td>\n",
              "      <td>xiaomi</td>\n",
              "      <td>489.07</td>\n",
              "      <td>520088904</td>\n",
              "      <td>4d3b30da-a5e4-49df-b1a8-ba5943f1dd33</td>\n",
              "    </tr>\n",
              "    <tr>\n",
              "      <th>1</th>\n",
              "      <td>2019-11-01 00:00:00 UTC</td>\n",
              "      <td>view</td>\n",
              "      <td>5000088</td>\n",
              "      <td>2053013566100866035</td>\n",
              "      <td>appliances.sewing_machine</td>\n",
              "      <td>janome</td>\n",
              "      <td>293.65</td>\n",
              "      <td>530496790</td>\n",
              "      <td>8e5f4f83-366c-4f70-860e-ca7417414283</td>\n",
              "    </tr>\n",
              "    <tr>\n",
              "      <th>2</th>\n",
              "      <td>2019-11-01 00:00:01 UTC</td>\n",
              "      <td>view</td>\n",
              "      <td>17302664</td>\n",
              "      <td>2053013553853497655</td>\n",
              "      <td>NaN</td>\n",
              "      <td>creed</td>\n",
              "      <td>28.31</td>\n",
              "      <td>561587266</td>\n",
              "      <td>755422e7-9040-477b-9bd2-6a6e8fd97387</td>\n",
              "    </tr>\n",
              "    <tr>\n",
              "      <th>3</th>\n",
              "      <td>2019-11-01 00:00:01 UTC</td>\n",
              "      <td>view</td>\n",
              "      <td>3601530</td>\n",
              "      <td>2053013563810775923</td>\n",
              "      <td>appliances.kitchen.washer</td>\n",
              "      <td>lg</td>\n",
              "      <td>712.87</td>\n",
              "      <td>518085591</td>\n",
              "      <td>3bfb58cd-7892-48cc-8020-2f17e6de6e7f</td>\n",
              "    </tr>\n",
              "    <tr>\n",
              "      <th>4</th>\n",
              "      <td>2019-11-01 00:00:01 UTC</td>\n",
              "      <td>view</td>\n",
              "      <td>1004775</td>\n",
              "      <td>2053013555631882655</td>\n",
              "      <td>electronics.smartphone</td>\n",
              "      <td>xiaomi</td>\n",
              "      <td>183.27</td>\n",
              "      <td>558856683</td>\n",
              "      <td>313628f1-68b8-460d-84f6-cec7a8796ef2</td>\n",
              "    </tr>\n",
              "  </tbody>\n",
              "</table>\n",
              "</div>"
            ],
            "text/plain": [
              "                event_time  ...                          user_session\n",
              "0  2019-11-01 00:00:00 UTC  ...  4d3b30da-a5e4-49df-b1a8-ba5943f1dd33\n",
              "1  2019-11-01 00:00:00 UTC  ...  8e5f4f83-366c-4f70-860e-ca7417414283\n",
              "2  2019-11-01 00:00:01 UTC  ...  755422e7-9040-477b-9bd2-6a6e8fd97387\n",
              "3  2019-11-01 00:00:01 UTC  ...  3bfb58cd-7892-48cc-8020-2f17e6de6e7f\n",
              "4  2019-11-01 00:00:01 UTC  ...  313628f1-68b8-460d-84f6-cec7a8796ef2\n",
              "\n",
              "[5 rows x 9 columns]"
            ]
          },
          "metadata": {},
          "execution_count": 39
        }
      ]
    },
    {
      "cell_type": "markdown",
      "metadata": {
        "id": "JSEYCuUDiZ9-"
      },
      "source": [
        "### 데이터 info"
      ]
    },
    {
      "cell_type": "code",
      "metadata": {
        "colab": {
          "base_uri": "https://localhost:8080/"
        },
        "id": "wzt_34ENNXex",
        "outputId": "17d8b4d1-1e78-4a06-b4a1-4e77e90b94ac"
      },
      "source": [
        "nov_data.info()"
      ],
      "execution_count": 40,
      "outputs": [
        {
          "output_type": "stream",
          "name": "stdout",
          "text": [
            "<class 'pandas.core.frame.DataFrame'>\n",
            "RangeIndex: 1000000 entries, 0 to 999999\n",
            "Data columns (total 9 columns):\n",
            " #   Column         Non-Null Count    Dtype  \n",
            "---  ------         --------------    -----  \n",
            " 0   event_time     1000000 non-null  object \n",
            " 1   event_type     1000000 non-null  object \n",
            " 2   product_id     1000000 non-null  int64  \n",
            " 3   category_id    1000000 non-null  int64  \n",
            " 4   category_code  683023 non-null   object \n",
            " 5   brand          852803 non-null   object \n",
            " 6   price          1000000 non-null  float64\n",
            " 7   user_id        1000000 non-null  int64  \n",
            " 8   user_session   1000000 non-null  object \n",
            "dtypes: float64(1), int64(3), object(5)\n",
            "memory usage: 68.7+ MB\n"
          ]
        }
      ]
    },
    {
      "cell_type": "markdown",
      "metadata": {
        "id": "AkIoL6xPNYZd"
      },
      "source": [
        "### 1. 해당 전체 기간에서, KST 기준으로 active user 수가 제일 큰 날짜를 구하세요\n",
        "\n"
      ]
    },
    {
      "cell_type": "code",
      "metadata": {
        "id": "kCRohdQYmyaK",
        "colab": {
          "base_uri": "https://localhost:8080/",
          "height": 585
        },
        "outputId": "7e0a0c35-0449-4b0f-eb4b-802587e86e78"
      },
      "source": [
        "nov_data['event_time'] = nov_data[\"event_time\"].replace('UTC', '', regex=True) #KST 변환을 위해 UTC 제거 \n",
        "nov_data"
      ],
      "execution_count": 5,
      "outputs": [
        {
          "output_type": "execute_result",
          "data": {
            "text/html": [
              "<div>\n",
              "<style scoped>\n",
              "    .dataframe tbody tr th:only-of-type {\n",
              "        vertical-align: middle;\n",
              "    }\n",
              "\n",
              "    .dataframe tbody tr th {\n",
              "        vertical-align: top;\n",
              "    }\n",
              "\n",
              "    .dataframe thead th {\n",
              "        text-align: right;\n",
              "    }\n",
              "</style>\n",
              "<table border=\"1\" class=\"dataframe\">\n",
              "  <thead>\n",
              "    <tr style=\"text-align: right;\">\n",
              "      <th></th>\n",
              "      <th>event_time</th>\n",
              "      <th>event_type</th>\n",
              "      <th>product_id</th>\n",
              "      <th>category_id</th>\n",
              "      <th>category_code</th>\n",
              "      <th>brand</th>\n",
              "      <th>price</th>\n",
              "      <th>user_id</th>\n",
              "      <th>user_session</th>\n",
              "    </tr>\n",
              "  </thead>\n",
              "  <tbody>\n",
              "    <tr>\n",
              "      <th>0</th>\n",
              "      <td>2019-11-01 00:00:00</td>\n",
              "      <td>view</td>\n",
              "      <td>1003461</td>\n",
              "      <td>2053013555631882655</td>\n",
              "      <td>electronics.smartphone</td>\n",
              "      <td>xiaomi</td>\n",
              "      <td>489.07</td>\n",
              "      <td>520088904</td>\n",
              "      <td>4d3b30da-a5e4-49df-b1a8-ba5943f1dd33</td>\n",
              "    </tr>\n",
              "    <tr>\n",
              "      <th>1</th>\n",
              "      <td>2019-11-01 00:00:00</td>\n",
              "      <td>view</td>\n",
              "      <td>5000088</td>\n",
              "      <td>2053013566100866035</td>\n",
              "      <td>appliances.sewing_machine</td>\n",
              "      <td>janome</td>\n",
              "      <td>293.65</td>\n",
              "      <td>530496790</td>\n",
              "      <td>8e5f4f83-366c-4f70-860e-ca7417414283</td>\n",
              "    </tr>\n",
              "    <tr>\n",
              "      <th>3</th>\n",
              "      <td>2019-11-01 00:00:01</td>\n",
              "      <td>view</td>\n",
              "      <td>3601530</td>\n",
              "      <td>2053013563810775923</td>\n",
              "      <td>appliances.kitchen.washer</td>\n",
              "      <td>lg</td>\n",
              "      <td>712.87</td>\n",
              "      <td>518085591</td>\n",
              "      <td>3bfb58cd-7892-48cc-8020-2f17e6de6e7f</td>\n",
              "    </tr>\n",
              "    <tr>\n",
              "      <th>4</th>\n",
              "      <td>2019-11-01 00:00:01</td>\n",
              "      <td>view</td>\n",
              "      <td>1004775</td>\n",
              "      <td>2053013555631882655</td>\n",
              "      <td>electronics.smartphone</td>\n",
              "      <td>xiaomi</td>\n",
              "      <td>183.27</td>\n",
              "      <td>558856683</td>\n",
              "      <td>313628f1-68b8-460d-84f6-cec7a8796ef2</td>\n",
              "    </tr>\n",
              "    <tr>\n",
              "      <th>5</th>\n",
              "      <td>2019-11-01 00:00:01</td>\n",
              "      <td>view</td>\n",
              "      <td>1306894</td>\n",
              "      <td>2053013558920217191</td>\n",
              "      <td>computers.notebook</td>\n",
              "      <td>hp</td>\n",
              "      <td>360.09</td>\n",
              "      <td>520772685</td>\n",
              "      <td>816a59f3-f5ae-4ccd-9b23-82aa8c23d33c</td>\n",
              "    </tr>\n",
              "    <tr>\n",
              "      <th>...</th>\n",
              "      <td>...</td>\n",
              "      <td>...</td>\n",
              "      <td>...</td>\n",
              "      <td>...</td>\n",
              "      <td>...</td>\n",
              "      <td>...</td>\n",
              "      <td>...</td>\n",
              "      <td>...</td>\n",
              "      <td>...</td>\n",
              "    </tr>\n",
              "    <tr>\n",
              "      <th>999986</th>\n",
              "      <td>2019-11-01 15:32:09</td>\n",
              "      <td>view</td>\n",
              "      <td>10900168</td>\n",
              "      <td>2053013555069845885</td>\n",
              "      <td>appliances.kitchen.mixer</td>\n",
              "      <td>kitfort</td>\n",
              "      <td>112.21</td>\n",
              "      <td>513769776</td>\n",
              "      <td>b022b566-bfe6-402d-97a1-97d6c5e25451</td>\n",
              "    </tr>\n",
              "    <tr>\n",
              "      <th>999989</th>\n",
              "      <td>2019-11-01 15:32:09</td>\n",
              "      <td>view</td>\n",
              "      <td>46800028</td>\n",
              "      <td>2110187395394568257</td>\n",
              "      <td>appliances.kitchen.refrigerators</td>\n",
              "      <td>coolfort</td>\n",
              "      <td>77.20</td>\n",
              "      <td>517774726</td>\n",
              "      <td>37296599-f700-4b74-84a3-298134813eb4</td>\n",
              "    </tr>\n",
              "    <tr>\n",
              "      <th>999993</th>\n",
              "      <td>2019-11-01 15:32:09</td>\n",
              "      <td>view</td>\n",
              "      <td>1005160</td>\n",
              "      <td>2053013555631882655</td>\n",
              "      <td>electronics.smartphone</td>\n",
              "      <td>xiaomi</td>\n",
              "      <td>211.32</td>\n",
              "      <td>552024896</td>\n",
              "      <td>16f59979-9d95-41e5-9e45-5ee3171accb8</td>\n",
              "    </tr>\n",
              "    <tr>\n",
              "      <th>999996</th>\n",
              "      <td>2019-11-01 15:32:09</td>\n",
              "      <td>view</td>\n",
              "      <td>2800546</td>\n",
              "      <td>2053013563835941749</td>\n",
              "      <td>appliances.kitchen.refrigerators</td>\n",
              "      <td>xing</td>\n",
              "      <td>192.51</td>\n",
              "      <td>513747948</td>\n",
              "      <td>d9ae554d-1841-412d-aefb-daa105910574</td>\n",
              "    </tr>\n",
              "    <tr>\n",
              "      <th>999999</th>\n",
              "      <td>2019-11-01 15:32:10</td>\n",
              "      <td>view</td>\n",
              "      <td>3601515</td>\n",
              "      <td>2053013563810775923</td>\n",
              "      <td>appliances.kitchen.washer</td>\n",
              "      <td>samsung</td>\n",
              "      <td>604.65</td>\n",
              "      <td>536873532</td>\n",
              "      <td>04715ba0-529e-4f6b-8895-5d7ba92ec2eb</td>\n",
              "    </tr>\n",
              "  </tbody>\n",
              "</table>\n",
              "<p>622575 rows × 9 columns</p>\n",
              "</div>"
            ],
            "text/plain": [
              "                  event_time  ...                          user_session\n",
              "0       2019-11-01 00:00:00   ...  4d3b30da-a5e4-49df-b1a8-ba5943f1dd33\n",
              "1       2019-11-01 00:00:00   ...  8e5f4f83-366c-4f70-860e-ca7417414283\n",
              "3       2019-11-01 00:00:01   ...  3bfb58cd-7892-48cc-8020-2f17e6de6e7f\n",
              "4       2019-11-01 00:00:01   ...  313628f1-68b8-460d-84f6-cec7a8796ef2\n",
              "5       2019-11-01 00:00:01   ...  816a59f3-f5ae-4ccd-9b23-82aa8c23d33c\n",
              "...                      ...  ...                                   ...\n",
              "999986  2019-11-01 15:32:09   ...  b022b566-bfe6-402d-97a1-97d6c5e25451\n",
              "999989  2019-11-01 15:32:09   ...  37296599-f700-4b74-84a3-298134813eb4\n",
              "999993  2019-11-01 15:32:09   ...  16f59979-9d95-41e5-9e45-5ee3171accb8\n",
              "999996  2019-11-01 15:32:09   ...  d9ae554d-1841-412d-aefb-daa105910574\n",
              "999999  2019-11-01 15:32:10   ...  04715ba0-529e-4f6b-8895-5d7ba92ec2eb\n",
              "\n",
              "[622575 rows x 9 columns]"
            ]
          },
          "metadata": {},
          "execution_count": 5
        }
      ]
    },
    {
      "cell_type": "code",
      "metadata": {
        "id": "SYsLjuDWmHdG"
      },
      "source": [
        "format = '%Y-%m-%d %H:%M:%S' \n",
        "nov_data['event_time'] = pd.to_datetime(nov_data['event_time'], format=format) # str 형식을 datetime 형식으로 변환"
      ],
      "execution_count": 6,
      "outputs": []
    },
    {
      "cell_type": "code",
      "metadata": {
        "id": "u_sgYrTQEEUd"
      },
      "source": [
        "nov_data['event_time'] = nov_data['event_time'] + datetime.timedelta(hours=9) #UTC KST 변환"
      ],
      "execution_count": 7,
      "outputs": []
    },
    {
      "cell_type": "code",
      "metadata": {
        "id": "ng4qPwN1EpU6",
        "colab": {
          "base_uri": "https://localhost:8080/",
          "height": 35
        },
        "outputId": "f988acbc-cea3-4325-e4b9-a83cb7bc8406"
      },
      "source": [
        "user_count  = nov_data['event_time'].dt.strftime('%Y-%m-%d').value_counts() #날짜별 active user \n",
        "bigDate = user_count.index[0] #날짜별 active user user 중 가장큰  날짜\n",
        "bigDate"
      ],
      "execution_count": 8,
      "outputs": [
        {
          "output_type": "execute_result",
          "data": {
            "application/vnd.google.colaboratory.intrinsic+json": {
              "type": "string"
            },
            "text/plain": [
              "'2019-11-01'"
            ]
          },
          "metadata": {},
          "execution_count": 8
        }
      ]
    },
    {
      "cell_type": "markdown",
      "metadata": {
        "id": "ze9sh8EqRhJy"
      },
      "source": [
        "### 2. 1의 날짜에서, 세션이 가장 긴 사용자 10명에 대해 \"user_id, session_id, 세션시간\"를 구하세요"
      ]
    },
    {
      "cell_type": "code",
      "metadata": {
        "id": "GNEauI2R53dt"
      },
      "source": [
        "bigDate_list = nov_data[nov_data['event_time'].dt.strftime('%Y-%m-%d') ==bigDate ] # 전체 데이터중 1의 날짜에 해당하는 데이터만 추출 "
      ],
      "execution_count": 9,
      "outputs": []
    },
    {
      "cell_type": "code",
      "metadata": {
        "id": "qsM4GJlD_7UQ"
      },
      "source": [
        "user_id_list = list(set(bigDate_list['user_id'])) # user_id 중복 제거 "
      ],
      "execution_count": 10,
      "outputs": []
    },
    {
      "cell_type": "code",
      "metadata": {
        "id": "hG5GMFgCEbcS"
      },
      "source": [
        "session_time = []\n",
        "userId = []\n",
        "session_id = []\n",
        "for user_id in user_id_list:\n",
        "  session_cal = bigDate_list[bigDate_list['user_id']==user_id]\n",
        "  userId.append(session_cal['user_id'].values[0]) # 같은 값 이므로 첫번째 값을 대입  \n",
        "  session_id.append(session_cal['user_session'].values[0])\n",
        "  session_time.append(max(session_cal['event_time'])-min(session_cal['event_time']))\n",
        "\n",
        "long_session_user = pd.DataFrame({'user_id':userId,'session_id':session_id,'sesssion_time':session_time})"
      ],
      "execution_count": 11,
      "outputs": []
    },
    {
      "cell_type": "code",
      "metadata": {
        "colab": {
          "base_uri": "https://localhost:8080/",
          "height": 239
        },
        "id": "aLfzZPfPBwOC",
        "outputId": "13ff3181-b280-4b23-9075-bbee8293da88"
      },
      "source": [
        "bigDate_list[bigDate_list['user_id']==user_id_list[2]]"
      ],
      "execution_count": 12,
      "outputs": [
        {
          "output_type": "execute_result",
          "data": {
            "text/html": [
              "<div>\n",
              "<style scoped>\n",
              "    .dataframe tbody tr th:only-of-type {\n",
              "        vertical-align: middle;\n",
              "    }\n",
              "\n",
              "    .dataframe tbody tr th {\n",
              "        vertical-align: top;\n",
              "    }\n",
              "\n",
              "    .dataframe thead th {\n",
              "        text-align: right;\n",
              "    }\n",
              "</style>\n",
              "<table border=\"1\" class=\"dataframe\">\n",
              "  <thead>\n",
              "    <tr style=\"text-align: right;\">\n",
              "      <th></th>\n",
              "      <th>event_time</th>\n",
              "      <th>event_type</th>\n",
              "      <th>product_id</th>\n",
              "      <th>category_id</th>\n",
              "      <th>category_code</th>\n",
              "      <th>brand</th>\n",
              "      <th>price</th>\n",
              "      <th>user_id</th>\n",
              "      <th>user_session</th>\n",
              "    </tr>\n",
              "  </thead>\n",
              "  <tbody>\n",
              "    <tr>\n",
              "      <th>617327</th>\n",
              "      <td>2019-11-01 19:49:56</td>\n",
              "      <td>view</td>\n",
              "      <td>5100846</td>\n",
              "      <td>2053013553341792533</td>\n",
              "      <td>electronics.clocks</td>\n",
              "      <td>xiaomi</td>\n",
              "      <td>179.93</td>\n",
              "      <td>537133063</td>\n",
              "      <td>a4cb533c-5604-4ef8-831f-e0d0eac6b2cc</td>\n",
              "    </tr>\n",
              "    <tr>\n",
              "      <th>618240</th>\n",
              "      <td>2019-11-01 19:50:40</td>\n",
              "      <td>view</td>\n",
              "      <td>5100846</td>\n",
              "      <td>2053013553341792533</td>\n",
              "      <td>electronics.clocks</td>\n",
              "      <td>xiaomi</td>\n",
              "      <td>179.93</td>\n",
              "      <td>537133063</td>\n",
              "      <td>a4cb533c-5604-4ef8-831f-e0d0eac6b2cc</td>\n",
              "    </tr>\n",
              "    <tr>\n",
              "      <th>619906</th>\n",
              "      <td>2019-11-01 19:51:59</td>\n",
              "      <td>view</td>\n",
              "      <td>5100846</td>\n",
              "      <td>2053013553341792533</td>\n",
              "      <td>electronics.clocks</td>\n",
              "      <td>xiaomi</td>\n",
              "      <td>179.93</td>\n",
              "      <td>537133063</td>\n",
              "      <td>a4cb533c-5604-4ef8-831f-e0d0eac6b2cc</td>\n",
              "    </tr>\n",
              "    <tr>\n",
              "      <th>622037</th>\n",
              "      <td>2019-11-01 19:53:39</td>\n",
              "      <td>view</td>\n",
              "      <td>5100846</td>\n",
              "      <td>2053013553341792533</td>\n",
              "      <td>electronics.clocks</td>\n",
              "      <td>xiaomi</td>\n",
              "      <td>179.93</td>\n",
              "      <td>537133063</td>\n",
              "      <td>00eee906-c0e3-46cb-a0a7-047f45401117</td>\n",
              "    </tr>\n",
              "  </tbody>\n",
              "</table>\n",
              "</div>"
            ],
            "text/plain": [
              "                event_time  ...                          user_session\n",
              "617327 2019-11-01 19:49:56  ...  a4cb533c-5604-4ef8-831f-e0d0eac6b2cc\n",
              "618240 2019-11-01 19:50:40  ...  a4cb533c-5604-4ef8-831f-e0d0eac6b2cc\n",
              "619906 2019-11-01 19:51:59  ...  a4cb533c-5604-4ef8-831f-e0d0eac6b2cc\n",
              "622037 2019-11-01 19:53:39  ...  00eee906-c0e3-46cb-a0a7-047f45401117\n",
              "\n",
              "[4 rows x 9 columns]"
            ]
          },
          "metadata": {},
          "execution_count": 12
        }
      ]
    },
    {
      "cell_type": "code",
      "metadata": {
        "colab": {
          "base_uri": "https://localhost:8080/",
          "height": 357
        },
        "id": "V1LnM6wk_DzL",
        "outputId": "1122244b-b1ec-4d79-e9b8-7fa4da11bde3"
      },
      "source": [
        "long_session_user = long_session_user.sort_values(by=['sesssion_time'], axis=0,ascending=False)[0:10].reset_index(drop=True)\n",
        "long_session_user"
      ],
      "execution_count": 13,
      "outputs": [
        {
          "output_type": "execute_result",
          "data": {
            "text/html": [
              "<div>\n",
              "<style scoped>\n",
              "    .dataframe tbody tr th:only-of-type {\n",
              "        vertical-align: middle;\n",
              "    }\n",
              "\n",
              "    .dataframe tbody tr th {\n",
              "        vertical-align: top;\n",
              "    }\n",
              "\n",
              "    .dataframe thead th {\n",
              "        text-align: right;\n",
              "    }\n",
              "</style>\n",
              "<table border=\"1\" class=\"dataframe\">\n",
              "  <thead>\n",
              "    <tr style=\"text-align: right;\">\n",
              "      <th></th>\n",
              "      <th>user_id</th>\n",
              "      <th>session_id</th>\n",
              "      <th>sesssion_time</th>\n",
              "    </tr>\n",
              "  </thead>\n",
              "  <tbody>\n",
              "    <tr>\n",
              "      <th>0</th>\n",
              "      <td>540508491</td>\n",
              "      <td>33a0d8f4-c388-4ce7-85f4-7b1f11563d6a</td>\n",
              "      <td>0 days 14:50:27</td>\n",
              "    </tr>\n",
              "    <tr>\n",
              "      <th>1</th>\n",
              "      <td>566143627</td>\n",
              "      <td>aa610ab3-5c60-4551-8a2b-8c999dddf843</td>\n",
              "      <td>0 days 14:50:12</td>\n",
              "    </tr>\n",
              "    <tr>\n",
              "      <th>2</th>\n",
              "      <td>565996493</td>\n",
              "      <td>79bb7f6b-d8a5-44d3-9f08-c61267c30181</td>\n",
              "      <td>0 days 14:35:56</td>\n",
              "    </tr>\n",
              "    <tr>\n",
              "      <th>3</th>\n",
              "      <td>554428024</td>\n",
              "      <td>327317f9-d39f-4a24-b123-5fa9d17c310c</td>\n",
              "      <td>0 days 14:34:43</td>\n",
              "    </tr>\n",
              "    <tr>\n",
              "      <th>4</th>\n",
              "      <td>525599966</td>\n",
              "      <td>b650cb3d-900a-4603-a4ef-2caf68e3744e</td>\n",
              "      <td>0 days 14:33:21</td>\n",
              "    </tr>\n",
              "    <tr>\n",
              "      <th>5</th>\n",
              "      <td>517775322</td>\n",
              "      <td>723a4611-2a88-4e0f-a4c5-6e49ea19e1cb</td>\n",
              "      <td>0 days 14:28:01</td>\n",
              "    </tr>\n",
              "    <tr>\n",
              "      <th>6</th>\n",
              "      <td>520934632</td>\n",
              "      <td>27514f98-ca4a-416d-9540-dad3ac469c55</td>\n",
              "      <td>0 days 14:24:37</td>\n",
              "    </tr>\n",
              "    <tr>\n",
              "      <th>7</th>\n",
              "      <td>565855130</td>\n",
              "      <td>412a01fe-f7a0-4d99-ab0c-db4fc64cbb65</td>\n",
              "      <td>0 days 14:23:05</td>\n",
              "    </tr>\n",
              "    <tr>\n",
              "      <th>8</th>\n",
              "      <td>519155085</td>\n",
              "      <td>084a39d2-894f-436e-82f6-dcce242b389f</td>\n",
              "      <td>0 days 14:16:45</td>\n",
              "    </tr>\n",
              "    <tr>\n",
              "      <th>9</th>\n",
              "      <td>556551950</td>\n",
              "      <td>69726a09-7176-4b7f-9690-f301ad082962</td>\n",
              "      <td>0 days 14:14:08</td>\n",
              "    </tr>\n",
              "  </tbody>\n",
              "</table>\n",
              "</div>"
            ],
            "text/plain": [
              "     user_id                            session_id   sesssion_time\n",
              "0  540508491  33a0d8f4-c388-4ce7-85f4-7b1f11563d6a 0 days 14:50:27\n",
              "1  566143627  aa610ab3-5c60-4551-8a2b-8c999dddf843 0 days 14:50:12\n",
              "2  565996493  79bb7f6b-d8a5-44d3-9f08-c61267c30181 0 days 14:35:56\n",
              "3  554428024  327317f9-d39f-4a24-b123-5fa9d17c310c 0 days 14:34:43\n",
              "4  525599966  b650cb3d-900a-4603-a4ef-2caf68e3744e 0 days 14:33:21\n",
              "5  517775322  723a4611-2a88-4e0f-a4c5-6e49ea19e1cb 0 days 14:28:01\n",
              "6  520934632  27514f98-ca4a-416d-9540-dad3ac469c55 0 days 14:24:37\n",
              "7  565855130  412a01fe-f7a0-4d99-ab0c-db4fc64cbb65 0 days 14:23:05\n",
              "8  519155085  084a39d2-894f-436e-82f6-dcce242b389f 0 days 14:16:45\n",
              "9  556551950  69726a09-7176-4b7f-9690-f301ad082962 0 days 14:14:08"
            ]
          },
          "metadata": {},
          "execution_count": 13
        }
      ]
    },
    {
      "cell_type": "markdown",
      "metadata": {
        "id": "Lv5cNzzgRFXY"
      },
      "source": [
        "### 3. 1의 날짜의 15분단위로 active user 수를 구하세요\n"
      ]
    },
    {
      "cell_type": "code",
      "metadata": {
        "colab": {
          "base_uri": "https://localhost:8080/"
        },
        "id": "NK78umxgRFtV",
        "outputId": "e614c027-d667-44f5-ad09-b15035d0c6c8"
      },
      "source": [
        "bigDate_list.resample('15T', on='event_time').user_id.count()"
      ],
      "execution_count": 14,
      "outputs": [
        {
          "output_type": "execute_result",
          "data": {
            "text/plain": [
              "event_time\n",
              "2019-11-01 09:00:00     1256\n",
              "2019-11-01 09:15:00     1350\n",
              "2019-11-01 09:30:00     1705\n",
              "2019-11-01 09:45:00     1738\n",
              "2019-11-01 10:00:00     1314\n",
              "2019-11-01 10:15:00      617\n",
              "2019-11-01 10:30:00     2868\n",
              "2019-11-01 10:45:00     3472\n",
              "2019-11-01 11:00:00     4024\n",
              "2019-11-01 11:15:00     4714\n",
              "2019-11-01 11:30:00     5234\n",
              "2019-11-01 11:45:00     5693\n",
              "2019-11-01 12:00:00     6505\n",
              "2019-11-01 12:15:00     6977\n",
              "2019-11-01 12:30:00     7758\n",
              "2019-11-01 12:45:00     8361\n",
              "2019-11-01 13:00:00     8517\n",
              "2019-11-01 13:15:00     9200\n",
              "2019-11-01 13:30:00     9961\n",
              "2019-11-01 13:45:00     9876\n",
              "2019-11-01 14:00:00    10249\n",
              "2019-11-01 14:15:00    11359\n",
              "2019-11-01 14:30:00    12215\n",
              "2019-11-01 14:45:00    11780\n",
              "2019-11-01 15:00:00    11645\n",
              "2019-11-01 15:15:00    12042\n",
              "2019-11-01 15:30:00    11624\n",
              "2019-11-01 15:45:00    11749\n",
              "2019-11-01 16:00:00    11691\n",
              "2019-11-01 16:15:00    12249\n",
              "2019-11-01 16:30:00    12774\n",
              "2019-11-01 16:45:00    12609\n",
              "2019-11-01 17:00:00    12251\n",
              "2019-11-01 17:15:00    12352\n",
              "2019-11-01 17:30:00    12567\n",
              "2019-11-01 17:45:00    12267\n",
              "2019-11-01 18:00:00    11824\n",
              "2019-11-01 18:15:00    11634\n",
              "2019-11-01 18:30:00    12303\n",
              "2019-11-01 18:45:00    11760\n",
              "2019-11-01 19:00:00    12019\n",
              "2019-11-01 19:15:00    11509\n",
              "2019-11-01 19:30:00    12103\n",
              "2019-11-01 19:45:00    11691\n",
              "2019-11-01 20:00:00    10904\n",
              "2019-11-01 20:15:00    11844\n",
              "2019-11-01 20:30:00    11350\n",
              "2019-11-01 20:45:00    11715\n",
              "2019-11-01 21:00:00    11037\n",
              "2019-11-01 21:15:00    11108\n",
              "2019-11-01 21:30:00    11742\n",
              "2019-11-01 21:45:00    12113\n",
              "2019-11-01 22:00:00    12386\n",
              "2019-11-01 22:15:00    12916\n",
              "2019-11-01 22:30:00    13223\n",
              "2019-11-01 22:45:00    13663\n",
              "2019-11-01 23:00:00    13906\n",
              "2019-11-01 23:15:00    14631\n",
              "2019-11-01 23:30:00    14564\n",
              "2019-11-01 23:45:00    14857\n",
              "Freq: 15T, Name: user_id, dtype: int64"
            ]
          },
          "metadata": {},
          "execution_count": 14
        }
      ]
    },
    {
      "cell_type": "markdown",
      "metadata": {
        "id": "KF5z-C8YtDgJ"
      },
      "source": [
        "### 4. 1의 날짜에서 view → cart → purchase 이벤트 진행에 따른 funnel 수치를 구하세요"
      ]
    },
    {
      "cell_type": "markdown",
      "metadata": {
        "id": "hUyOTBxqQvOg"
      },
      "source": [
        "- view,  cart, purchase 3개의 구간으로 구분을 해준다"
      ]
    },
    {
      "cell_type": "code",
      "metadata": {
        "colab": {
          "base_uri": "https://localhost:8080/",
          "height": 142
        },
        "id": "sz7tKzGjSbJP",
        "outputId": "925e2eec-94d3-44b3-b346-a4b152831491"
      },
      "source": [
        "funnel_dict = {'view':1,'cart':2,'purchase':3}\n",
        "funnel_steps = pd.DataFrame.from_dict(funnel_dict,orient='index',columns=['step_no'])\n",
        "funnel_steps\n",
        "#|bigDate_list[bigDate_list['user_id']==557746614]"
      ],
      "execution_count": 15,
      "outputs": [
        {
          "output_type": "execute_result",
          "data": {
            "text/html": [
              "<div>\n",
              "<style scoped>\n",
              "    .dataframe tbody tr th:only-of-type {\n",
              "        vertical-align: middle;\n",
              "    }\n",
              "\n",
              "    .dataframe tbody tr th {\n",
              "        vertical-align: top;\n",
              "    }\n",
              "\n",
              "    .dataframe thead th {\n",
              "        text-align: right;\n",
              "    }\n",
              "</style>\n",
              "<table border=\"1\" class=\"dataframe\">\n",
              "  <thead>\n",
              "    <tr style=\"text-align: right;\">\n",
              "      <th></th>\n",
              "      <th>step_no</th>\n",
              "    </tr>\n",
              "  </thead>\n",
              "  <tbody>\n",
              "    <tr>\n",
              "      <th>view</th>\n",
              "      <td>1</td>\n",
              "    </tr>\n",
              "    <tr>\n",
              "      <th>cart</th>\n",
              "      <td>2</td>\n",
              "    </tr>\n",
              "    <tr>\n",
              "      <th>purchase</th>\n",
              "      <td>3</td>\n",
              "    </tr>\n",
              "  </tbody>\n",
              "</table>\n",
              "</div>"
            ],
            "text/plain": [
              "          step_no\n",
              "view            1\n",
              "cart            2\n",
              "purchase        3"
            ]
          },
          "metadata": {},
          "execution_count": 15
        }
      ]
    },
    {
      "cell_type": "code",
      "metadata": {
        "colab": {
          "base_uri": "https://localhost:8080/",
          "height": 447
        },
        "id": "466Lr6bcSt7T",
        "outputId": "bfbd93f6-6348-4129-f126-f40cd639f46c"
      },
      "source": [
        "grouped = bigDate_list.groupby(['user_session','event_type'])['event_time'].agg(np.min) \n",
        "grouped = pd.DataFrame(grouped).merge(funnel_steps,left_on='event_type',right_index=True)\n",
        "grouped"
      ],
      "execution_count": 37,
      "outputs": [
        {
          "output_type": "execute_result",
          "data": {
            "text/html": [
              "<div>\n",
              "<style scoped>\n",
              "    .dataframe tbody tr th:only-of-type {\n",
              "        vertical-align: middle;\n",
              "    }\n",
              "\n",
              "    .dataframe tbody tr th {\n",
              "        vertical-align: top;\n",
              "    }\n",
              "\n",
              "    .dataframe thead th {\n",
              "        text-align: right;\n",
              "    }\n",
              "</style>\n",
              "<table border=\"1\" class=\"dataframe\">\n",
              "  <thead>\n",
              "    <tr style=\"text-align: right;\">\n",
              "      <th></th>\n",
              "      <th></th>\n",
              "      <th>event_time</th>\n",
              "      <th>step_no</th>\n",
              "    </tr>\n",
              "    <tr>\n",
              "      <th>user_session</th>\n",
              "      <th>event_type</th>\n",
              "      <th></th>\n",
              "      <th></th>\n",
              "    </tr>\n",
              "  </thead>\n",
              "  <tbody>\n",
              "    <tr>\n",
              "      <th>00006bc8-78c7-4100-ba97-37352c9af491</th>\n",
              "      <th>view</th>\n",
              "      <td>2019-11-01 21:01:35</td>\n",
              "      <td>1</td>\n",
              "    </tr>\n",
              "    <tr>\n",
              "      <th>00008ebc-a8c1-48c2-beb9-aa4448e93639</th>\n",
              "      <th>view</th>\n",
              "      <td>2019-11-01 22:11:19</td>\n",
              "      <td>1</td>\n",
              "    </tr>\n",
              "    <tr>\n",
              "      <th>0000b0f0-9fb0-41a3-bdfa-3fa1d28b2e7c</th>\n",
              "      <th>view</th>\n",
              "      <td>2019-11-01 19:37:08</td>\n",
              "      <td>1</td>\n",
              "    </tr>\n",
              "    <tr>\n",
              "      <th>00010669-878a-4f17-82b6-844d74d94d47</th>\n",
              "      <th>view</th>\n",
              "      <td>2019-11-01 16:41:52</td>\n",
              "      <td>1</td>\n",
              "    </tr>\n",
              "    <tr>\n",
              "      <th>00014981-98a1-41c7-b284-2aec59c744ea</th>\n",
              "      <th>view</th>\n",
              "      <td>2019-11-01 16:25:57</td>\n",
              "      <td>1</td>\n",
              "    </tr>\n",
              "    <tr>\n",
              "      <th>...</th>\n",
              "      <th>...</th>\n",
              "      <td>...</td>\n",
              "      <td>...</td>\n",
              "    </tr>\n",
              "    <tr>\n",
              "      <th>ffd9a8a5-d76c-4f99-8264-96d113fe01ed</th>\n",
              "      <th>purchase</th>\n",
              "      <td>2019-11-01 18:33:27</td>\n",
              "      <td>3</td>\n",
              "    </tr>\n",
              "    <tr>\n",
              "      <th>ffdf6340-6d82-43de-a502-549571ad5581</th>\n",
              "      <th>purchase</th>\n",
              "      <td>2019-11-01 13:05:28</td>\n",
              "      <td>3</td>\n",
              "    </tr>\n",
              "    <tr>\n",
              "      <th>ffe4d135-300b-4721-9369-cbea9bbec95b</th>\n",
              "      <th>purchase</th>\n",
              "      <td>2019-11-01 17:23:32</td>\n",
              "      <td>3</td>\n",
              "    </tr>\n",
              "    <tr>\n",
              "      <th>ffe4e755-7003-4c62-99f4-f36d02396bf2</th>\n",
              "      <th>purchase</th>\n",
              "      <td>2019-11-01 17:33:52</td>\n",
              "      <td>3</td>\n",
              "    </tr>\n",
              "    <tr>\n",
              "      <th>ffe71996-6af9-4312-bf6a-f537f8c24037</th>\n",
              "      <th>purchase</th>\n",
              "      <td>2019-11-01 15:09:52</td>\n",
              "      <td>3</td>\n",
              "    </tr>\n",
              "  </tbody>\n",
              "</table>\n",
              "<p>174817 rows × 2 columns</p>\n",
              "</div>"
            ],
            "text/plain": [
              "                                                         event_time  step_no\n",
              "user_session                         event_type                             \n",
              "00006bc8-78c7-4100-ba97-37352c9af491 view       2019-11-01 21:01:35        1\n",
              "00008ebc-a8c1-48c2-beb9-aa4448e93639 view       2019-11-01 22:11:19        1\n",
              "0000b0f0-9fb0-41a3-bdfa-3fa1d28b2e7c view       2019-11-01 19:37:08        1\n",
              "00010669-878a-4f17-82b6-844d74d94d47 view       2019-11-01 16:41:52        1\n",
              "00014981-98a1-41c7-b284-2aec59c744ea view       2019-11-01 16:25:57        1\n",
              "...                                                             ...      ...\n",
              "ffd9a8a5-d76c-4f99-8264-96d113fe01ed purchase   2019-11-01 18:33:27        3\n",
              "ffdf6340-6d82-43de-a502-549571ad5581 purchase   2019-11-01 13:05:28        3\n",
              "ffe4d135-300b-4721-9369-cbea9bbec95b purchase   2019-11-01 17:23:32        3\n",
              "ffe4e755-7003-4c62-99f4-f36d02396bf2 purchase   2019-11-01 17:33:52        3\n",
              "ffe71996-6af9-4312-bf6a-f537f8c24037 purchase   2019-11-01 15:09:52        3\n",
              "\n",
              "[174817 rows x 2 columns]"
            ]
          },
          "metadata": {},
          "execution_count": 37
        }
      ]
    },
    {
      "cell_type": "code",
      "metadata": {
        "colab": {
          "base_uri": "https://localhost:8080/",
          "height": 447
        },
        "id": "MnmZiw76hqgQ",
        "outputId": "8b6cd800-aa3e-46f3-a7f7-a3a1a04ee803"
      },
      "source": [
        "funnel = grouped.reset_index().pivot(index='user_session',columns='step_no',values='event_time')\n",
        "funnel"
      ],
      "execution_count": 17,
      "outputs": [
        {
          "output_type": "execute_result",
          "data": {
            "text/html": [
              "<div>\n",
              "<style scoped>\n",
              "    .dataframe tbody tr th:only-of-type {\n",
              "        vertical-align: middle;\n",
              "    }\n",
              "\n",
              "    .dataframe tbody tr th {\n",
              "        vertical-align: top;\n",
              "    }\n",
              "\n",
              "    .dataframe thead th {\n",
              "        text-align: right;\n",
              "    }\n",
              "</style>\n",
              "<table border=\"1\" class=\"dataframe\">\n",
              "  <thead>\n",
              "    <tr style=\"text-align: right;\">\n",
              "      <th>step_no</th>\n",
              "      <th>1</th>\n",
              "      <th>2</th>\n",
              "      <th>3</th>\n",
              "    </tr>\n",
              "    <tr>\n",
              "      <th>user_session</th>\n",
              "      <th></th>\n",
              "      <th></th>\n",
              "      <th></th>\n",
              "    </tr>\n",
              "  </thead>\n",
              "  <tbody>\n",
              "    <tr>\n",
              "      <th>00006bc8-78c7-4100-ba97-37352c9af491</th>\n",
              "      <td>2019-11-01 21:01:35</td>\n",
              "      <td>NaT</td>\n",
              "      <td>NaT</td>\n",
              "    </tr>\n",
              "    <tr>\n",
              "      <th>00008ebc-a8c1-48c2-beb9-aa4448e93639</th>\n",
              "      <td>2019-11-01 22:11:19</td>\n",
              "      <td>NaT</td>\n",
              "      <td>NaT</td>\n",
              "    </tr>\n",
              "    <tr>\n",
              "      <th>0000b0f0-9fb0-41a3-bdfa-3fa1d28b2e7c</th>\n",
              "      <td>2019-11-01 19:37:08</td>\n",
              "      <td>NaT</td>\n",
              "      <td>NaT</td>\n",
              "    </tr>\n",
              "    <tr>\n",
              "      <th>00010669-878a-4f17-82b6-844d74d94d47</th>\n",
              "      <td>2019-11-01 16:41:52</td>\n",
              "      <td>NaT</td>\n",
              "      <td>NaT</td>\n",
              "    </tr>\n",
              "    <tr>\n",
              "      <th>00014981-98a1-41c7-b284-2aec59c744ea</th>\n",
              "      <td>2019-11-01 16:25:57</td>\n",
              "      <td>NaT</td>\n",
              "      <td>NaT</td>\n",
              "    </tr>\n",
              "    <tr>\n",
              "      <th>...</th>\n",
              "      <td>...</td>\n",
              "      <td>...</td>\n",
              "      <td>...</td>\n",
              "    </tr>\n",
              "    <tr>\n",
              "      <th>fffde885-885e-40ac-b978-342ec524163b</th>\n",
              "      <td>2019-11-01 23:43:35</td>\n",
              "      <td>NaT</td>\n",
              "      <td>NaT</td>\n",
              "    </tr>\n",
              "    <tr>\n",
              "      <th>fffe720e-3ec9-4860-a8d7-5a3c8e354fc9</th>\n",
              "      <td>2019-11-01 23:34:01</td>\n",
              "      <td>NaT</td>\n",
              "      <td>NaT</td>\n",
              "    </tr>\n",
              "    <tr>\n",
              "      <th>ffff6a98-e9f4-4e59-9430-725071c52d43</th>\n",
              "      <td>2019-11-01 17:58:04</td>\n",
              "      <td>NaT</td>\n",
              "      <td>NaT</td>\n",
              "    </tr>\n",
              "    <tr>\n",
              "      <th>ffff71c0-fba3-4c9c-9116-a849b75b67a0</th>\n",
              "      <td>2019-11-01 16:10:35</td>\n",
              "      <td>NaT</td>\n",
              "      <td>NaT</td>\n",
              "    </tr>\n",
              "    <tr>\n",
              "      <th>ffffe1bf-992d-4fd9-bb35-7727d67eb91a</th>\n",
              "      <td>2019-11-01 15:06:49</td>\n",
              "      <td>NaT</td>\n",
              "      <td>NaT</td>\n",
              "    </tr>\n",
              "  </tbody>\n",
              "</table>\n",
              "<p>156035 rows × 3 columns</p>\n",
              "</div>"
            ],
            "text/plain": [
              "step_no                                                1   2   3\n",
              "user_session                                                    \n",
              "00006bc8-78c7-4100-ba97-37352c9af491 2019-11-01 21:01:35 NaT NaT\n",
              "00008ebc-a8c1-48c2-beb9-aa4448e93639 2019-11-01 22:11:19 NaT NaT\n",
              "0000b0f0-9fb0-41a3-bdfa-3fa1d28b2e7c 2019-11-01 19:37:08 NaT NaT\n",
              "00010669-878a-4f17-82b6-844d74d94d47 2019-11-01 16:41:52 NaT NaT\n",
              "00014981-98a1-41c7-b284-2aec59c744ea 2019-11-01 16:25:57 NaT NaT\n",
              "...                                                  ...  ..  ..\n",
              "fffde885-885e-40ac-b978-342ec524163b 2019-11-01 23:43:35 NaT NaT\n",
              "fffe720e-3ec9-4860-a8d7-5a3c8e354fc9 2019-11-01 23:34:01 NaT NaT\n",
              "ffff6a98-e9f4-4e59-9430-725071c52d43 2019-11-01 17:58:04 NaT NaT\n",
              "ffff71c0-fba3-4c9c-9116-a849b75b67a0 2019-11-01 16:10:35 NaT NaT\n",
              "ffffe1bf-992d-4fd9-bb35-7727d67eb91a 2019-11-01 15:06:49 NaT NaT\n",
              "\n",
              "[156035 rows x 3 columns]"
            ]
          },
          "metadata": {},
          "execution_count": 17
        }
      ]
    },
    {
      "cell_type": "code",
      "metadata": {
        "colab": {
          "base_uri": "https://localhost:8080/",
          "height": 447
        },
        "id": "0r1TT9RviUao",
        "outputId": "b7118080-41c8-42aa-86e0-ea984f2a4d4d"
      },
      "source": [
        "funnel.columns = funnel_steps.index\n",
        "funnel"
      ],
      "execution_count": 18,
      "outputs": [
        {
          "output_type": "execute_result",
          "data": {
            "text/html": [
              "<div>\n",
              "<style scoped>\n",
              "    .dataframe tbody tr th:only-of-type {\n",
              "        vertical-align: middle;\n",
              "    }\n",
              "\n",
              "    .dataframe tbody tr th {\n",
              "        vertical-align: top;\n",
              "    }\n",
              "\n",
              "    .dataframe thead th {\n",
              "        text-align: right;\n",
              "    }\n",
              "</style>\n",
              "<table border=\"1\" class=\"dataframe\">\n",
              "  <thead>\n",
              "    <tr style=\"text-align: right;\">\n",
              "      <th></th>\n",
              "      <th>view</th>\n",
              "      <th>cart</th>\n",
              "      <th>purchase</th>\n",
              "    </tr>\n",
              "    <tr>\n",
              "      <th>user_session</th>\n",
              "      <th></th>\n",
              "      <th></th>\n",
              "      <th></th>\n",
              "    </tr>\n",
              "  </thead>\n",
              "  <tbody>\n",
              "    <tr>\n",
              "      <th>00006bc8-78c7-4100-ba97-37352c9af491</th>\n",
              "      <td>2019-11-01 21:01:35</td>\n",
              "      <td>NaT</td>\n",
              "      <td>NaT</td>\n",
              "    </tr>\n",
              "    <tr>\n",
              "      <th>00008ebc-a8c1-48c2-beb9-aa4448e93639</th>\n",
              "      <td>2019-11-01 22:11:19</td>\n",
              "      <td>NaT</td>\n",
              "      <td>NaT</td>\n",
              "    </tr>\n",
              "    <tr>\n",
              "      <th>0000b0f0-9fb0-41a3-bdfa-3fa1d28b2e7c</th>\n",
              "      <td>2019-11-01 19:37:08</td>\n",
              "      <td>NaT</td>\n",
              "      <td>NaT</td>\n",
              "    </tr>\n",
              "    <tr>\n",
              "      <th>00010669-878a-4f17-82b6-844d74d94d47</th>\n",
              "      <td>2019-11-01 16:41:52</td>\n",
              "      <td>NaT</td>\n",
              "      <td>NaT</td>\n",
              "    </tr>\n",
              "    <tr>\n",
              "      <th>00014981-98a1-41c7-b284-2aec59c744ea</th>\n",
              "      <td>2019-11-01 16:25:57</td>\n",
              "      <td>NaT</td>\n",
              "      <td>NaT</td>\n",
              "    </tr>\n",
              "    <tr>\n",
              "      <th>...</th>\n",
              "      <td>...</td>\n",
              "      <td>...</td>\n",
              "      <td>...</td>\n",
              "    </tr>\n",
              "    <tr>\n",
              "      <th>fffde885-885e-40ac-b978-342ec524163b</th>\n",
              "      <td>2019-11-01 23:43:35</td>\n",
              "      <td>NaT</td>\n",
              "      <td>NaT</td>\n",
              "    </tr>\n",
              "    <tr>\n",
              "      <th>fffe720e-3ec9-4860-a8d7-5a3c8e354fc9</th>\n",
              "      <td>2019-11-01 23:34:01</td>\n",
              "      <td>NaT</td>\n",
              "      <td>NaT</td>\n",
              "    </tr>\n",
              "    <tr>\n",
              "      <th>ffff6a98-e9f4-4e59-9430-725071c52d43</th>\n",
              "      <td>2019-11-01 17:58:04</td>\n",
              "      <td>NaT</td>\n",
              "      <td>NaT</td>\n",
              "    </tr>\n",
              "    <tr>\n",
              "      <th>ffff71c0-fba3-4c9c-9116-a849b75b67a0</th>\n",
              "      <td>2019-11-01 16:10:35</td>\n",
              "      <td>NaT</td>\n",
              "      <td>NaT</td>\n",
              "    </tr>\n",
              "    <tr>\n",
              "      <th>ffffe1bf-992d-4fd9-bb35-7727d67eb91a</th>\n",
              "      <td>2019-11-01 15:06:49</td>\n",
              "      <td>NaT</td>\n",
              "      <td>NaT</td>\n",
              "    </tr>\n",
              "  </tbody>\n",
              "</table>\n",
              "<p>156035 rows × 3 columns</p>\n",
              "</div>"
            ],
            "text/plain": [
              "                                                    view cart purchase\n",
              "user_session                                                          \n",
              "00006bc8-78c7-4100-ba97-37352c9af491 2019-11-01 21:01:35  NaT      NaT\n",
              "00008ebc-a8c1-48c2-beb9-aa4448e93639 2019-11-01 22:11:19  NaT      NaT\n",
              "0000b0f0-9fb0-41a3-bdfa-3fa1d28b2e7c 2019-11-01 19:37:08  NaT      NaT\n",
              "00010669-878a-4f17-82b6-844d74d94d47 2019-11-01 16:41:52  NaT      NaT\n",
              "00014981-98a1-41c7-b284-2aec59c744ea 2019-11-01 16:25:57  NaT      NaT\n",
              "...                                                  ...  ...      ...\n",
              "fffde885-885e-40ac-b978-342ec524163b 2019-11-01 23:43:35  NaT      NaT\n",
              "fffe720e-3ec9-4860-a8d7-5a3c8e354fc9 2019-11-01 23:34:01  NaT      NaT\n",
              "ffff6a98-e9f4-4e59-9430-725071c52d43 2019-11-01 17:58:04  NaT      NaT\n",
              "ffff71c0-fba3-4c9c-9116-a849b75b67a0 2019-11-01 16:10:35  NaT      NaT\n",
              "ffffe1bf-992d-4fd9-bb35-7727d67eb91a 2019-11-01 15:06:49  NaT      NaT\n",
              "\n",
              "[156035 rows x 3 columns]"
            ]
          },
          "metadata": {},
          "execution_count": 18
        }
      ]
    },
    {
      "cell_type": "code",
      "metadata": {
        "colab": {
          "base_uri": "https://localhost:8080/"
        },
        "id": "Y9P5AwoILSph",
        "outputId": "cf2f6bdf-a2c6-4d44-e69d-f86ff02a023d"
      },
      "source": [
        "step_values = [funnel[column].notnull().sum() for column in funnel.columns]\n",
        "step_values"
      ],
      "execution_count": 19,
      "outputs": [
        {
          "output_type": "execute_result",
          "data": {
            "text/plain": [
              "[155995, 8103, 10719]"
            ]
          },
          "metadata": {},
          "execution_count": 19
        }
      ]
    },
    {
      "cell_type": "code",
      "metadata": {
        "colab": {
          "base_uri": "https://localhost:8080/"
        },
        "id": "5Ft41LNZo7Q0",
        "outputId": "24c00d4b-078c-4377-c446-52c8e2db8235"
      },
      "source": [
        "funnel.columns"
      ],
      "execution_count": 20,
      "outputs": [
        {
          "output_type": "execute_result",
          "data": {
            "text/plain": [
              "Index(['view', 'cart', 'purchase'], dtype='object')"
            ]
          },
          "metadata": {},
          "execution_count": 20
        }
      ]
    },
    {
      "cell_type": "code",
      "metadata": {
        "colab": {
          "base_uri": "https://localhost:8080/",
          "height": 265
        },
        "id": "QBzZ4DI6lBuh",
        "outputId": "f19ece2e-2c4f-4ba3-97b4-a795c8b55633"
      },
      "source": [
        "x = np.arange(3)\n",
        "years = funnel.columns\n",
        "values = step_values\n",
        "colors = ['dodgerblue', 'g', 'r']\n",
        "\n",
        "plt.bar(x, values, color=colors)\n",
        "plt.xticks(x, years)\n",
        "\n",
        "plt.show()"
      ],
      "execution_count": 21,
      "outputs": [
        {
          "output_type": "display_data",
          "data": {
            "image/png": "[encoded data removed]",
            "text/plain": [
              "<Figure size 432x288 with 1 Axes>"
            ]
          },
          "metadata": {
            "needs_background": "light"
          }
        }
      ]
    },
    {
      "cell_type": "code",
      "metadata": {
        "colab": {
          "base_uri": "https://localhost:8080/"
        },
        "id": "Av_SD1wTmjvr",
        "outputId": "55c76af7-7784-4f82-fbca-938fefa609d7"
      },
      "source": [
        "np.mean(funnel['cart']-funnel['view'])"
      ],
      "execution_count": 22,
      "outputs": [
        {
          "output_type": "execute_result",
          "data": {
            "text/plain": [
              "Timedelta('0 days 00:03:39.611007809')"
            ]
          },
          "metadata": {},
          "execution_count": 22
        }
      ]
    },
    {
      "cell_type": "code",
      "metadata": {
        "colab": {
          "base_uri": "https://localhost:8080/"
        },
        "id": "0UqJ1sXOsu7W",
        "outputId": "2d2007e4-272d-432b-876e-790c91e30cc8"
      },
      "source": [
        "np.mean(funnel['purchase']-funnel['cart'])"
      ],
      "execution_count": 23,
      "outputs": [
        {
          "output_type": "execute_result",
          "data": {
            "text/plain": [
              "Timedelta('0 days 00:02:27.281256633')"
            ]
          },
          "metadata": {},
          "execution_count": 23
        }
      ]
    },
    {
      "cell_type": "code",
      "metadata": {
        "id": "lwqZaFWNswSk"
      },
      "source": [
        ""
      ],
      "execution_count": 23,
      "outputs": []
    }
  ]
}