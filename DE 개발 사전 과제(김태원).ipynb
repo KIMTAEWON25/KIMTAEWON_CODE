{
 "cells": [
  {
   "cell_type": "markdown",
   "metadata": {
    "id": "RALvbmB5iF3l"
   },
   "source": [
    "## [DE 개발 사전 과제 - 신입](https://www.notion.so/DE-844fea84b1624c9fa459ebdf51a122fd)"
   ]
  },
  {
   "cell_type": "markdown",
   "metadata": {
    "id": "ZuveB0WZiIzE"
   },
   "source": [
    "### 라이브러리 "
   ]
  },
  {
   "cell_type": "code",
   "execution_count": 1,
   "metadata": {
    "id": "Q3IZqwOrempW"
   },
   "outputs": [],
   "source": [
    "import pandas as pd\n",
    "import numpy as np\n",
    "import datetime\n",
    "import matplotlib.pyplot as plt"
   ]
  },
  {
   "cell_type": "markdown",
   "metadata": {
    "id": "LrHLoLWviLzC"
   },
   "source": [
    "### 데이터 읽어오기"
   ]
  },
  {
   "cell_type": "code",
   "execution_count": 2,
   "metadata": {
    "colab": {
     "base_uri": "https://localhost:8080/",
     "height": 287
    },
    "id": "R4vsI4TFd0jW",
    "outputId": "1470480f-98a3-4f64-efd4-1839c6854db3"
   },
   "outputs": [
    {
     "data": {
      "text/html": [
       "<div>\n",
       "<style scoped>\n",
       "    .dataframe tbody tr th:only-of-type {\n",
       "        vertical-align: middle;\n",
       "    }\n",
       "\n",
       "    .dataframe tbody tr th {\n",
       "        vertical-align: top;\n",
       "    }\n",
       "\n",
       "    .dataframe thead th {\n",
       "        text-align: right;\n",
       "    }\n",
       "</style>\n",
       "<table border=\"1\" class=\"dataframe\">\n",
       "  <thead>\n",
       "    <tr style=\"text-align: right;\">\n",
       "      <th></th>\n",
       "      <th>event_time</th>\n",
       "      <th>event_type</th>\n",
       "      <th>product_id</th>\n",
       "      <th>category_id</th>\n",
       "      <th>category_code</th>\n",
       "      <th>brand</th>\n",
       "      <th>price</th>\n",
       "      <th>user_id</th>\n",
       "      <th>user_session</th>\n",
       "    </tr>\n",
       "  </thead>\n",
       "  <tbody>\n",
       "    <tr>\n",
       "      <th>0</th>\n",
       "      <td>2019-11-01 00:00:00 UTC</td>\n",
       "      <td>view</td>\n",
       "      <td>1003461</td>\n",
       "      <td>2053013555631882655</td>\n",
       "      <td>electronics.smartphone</td>\n",
       "      <td>xiaomi</td>\n",
       "      <td>489.07</td>\n",
       "      <td>520088904</td>\n",
       "      <td>4d3b30da-a5e4-49df-b1a8-ba5943f1dd33</td>\n",
       "    </tr>\n",
       "    <tr>\n",
       "      <th>1</th>\n",
       "      <td>2019-11-01 00:00:00 UTC</td>\n",
       "      <td>view</td>\n",
       "      <td>5000088</td>\n",
       "      <td>2053013566100866035</td>\n",
       "      <td>appliances.sewing_machine</td>\n",
       "      <td>janome</td>\n",
       "      <td>293.65</td>\n",
       "      <td>530496790</td>\n",
       "      <td>8e5f4f83-366c-4f70-860e-ca7417414283</td>\n",
       "    </tr>\n",
       "    <tr>\n",
       "      <th>2</th>\n",
       "      <td>2019-11-01 00:00:01 UTC</td>\n",
       "      <td>view</td>\n",
       "      <td>17302664</td>\n",
       "      <td>2053013553853497655</td>\n",
       "      <td>NaN</td>\n",
       "      <td>creed</td>\n",
       "      <td>28.31</td>\n",
       "      <td>561587266</td>\n",
       "      <td>755422e7-9040-477b-9bd2-6a6e8fd97387</td>\n",
       "    </tr>\n",
       "    <tr>\n",
       "      <th>3</th>\n",
       "      <td>2019-11-01 00:00:01 UTC</td>\n",
       "      <td>view</td>\n",
       "      <td>3601530</td>\n",
       "      <td>2053013563810775923</td>\n",
       "      <td>appliances.kitchen.washer</td>\n",
       "      <td>lg</td>\n",
       "      <td>712.87</td>\n",
       "      <td>518085591</td>\n",
       "      <td>3bfb58cd-7892-48cc-8020-2f17e6de6e7f</td>\n",
       "    </tr>\n",
       "    <tr>\n",
       "      <th>4</th>\n",
       "      <td>2019-11-01 00:00:01 UTC</td>\n",
       "      <td>view</td>\n",
       "      <td>1004775</td>\n",
       "      <td>2053013555631882655</td>\n",
       "      <td>electronics.smartphone</td>\n",
       "      <td>xiaomi</td>\n",
       "      <td>183.27</td>\n",
       "      <td>558856683</td>\n",
       "      <td>313628f1-68b8-460d-84f6-cec7a8796ef2</td>\n",
       "    </tr>\n",
       "  </tbody>\n",
       "</table>\n",
       "</div>"
      ],
      "text/plain": [
       "                event_time event_type  product_id          category_id  \\\n",
       "0  2019-11-01 00:00:00 UTC       view     1003461  2053013555631882655   \n",
       "1  2019-11-01 00:00:00 UTC       view     5000088  2053013566100866035   \n",
       "2  2019-11-01 00:00:01 UTC       view    17302664  2053013553853497655   \n",
       "3  2019-11-01 00:00:01 UTC       view     3601530  2053013563810775923   \n",
       "4  2019-11-01 00:00:01 UTC       view     1004775  2053013555631882655   \n",
       "\n",
       "               category_code   brand   price    user_id  \\\n",
       "0     electronics.smartphone  xiaomi  489.07  520088904   \n",
       "1  appliances.sewing_machine  janome  293.65  530496790   \n",
       "2                        NaN   creed   28.31  561587266   \n",
       "3  appliances.kitchen.washer      lg  712.87  518085591   \n",
       "4     electronics.smartphone  xiaomi  183.27  558856683   \n",
       "\n",
       "                           user_session  \n",
       "0  4d3b30da-a5e4-49df-b1a8-ba5943f1dd33  \n",
       "1  8e5f4f83-366c-4f70-860e-ca7417414283  \n",
       "2  755422e7-9040-477b-9bd2-6a6e8fd97387  \n",
       "3  3bfb58cd-7892-48cc-8020-2f17e6de6e7f  \n",
       "4  313628f1-68b8-460d-84f6-cec7a8796ef2  "
      ]
     },
     "execution_count": 2,
     "metadata": {},
     "output_type": "execute_result"
    }
   ],
   "source": [
    "nov_data = pd.read_csv('./2019-Nov.csv')\n",
    "nov_data.head()"
   ]
  },
  {
   "cell_type": "markdown",
   "metadata": {
    "id": "JSEYCuUDiZ9-"
   },
   "source": [
    "### 데이터 info"
   ]
  },
  {
   "cell_type": "code",
   "execution_count": 3,
   "metadata": {
    "colab": {
     "base_uri": "https://localhost:8080/"
    },
    "id": "wzt_34ENNXex",
    "outputId": "cd3d4d59-79e4-4ca2-d120-d907497c8478"
   },
   "outputs": [
    {
     "name": "stdout",
     "output_type": "stream",
     "text": [
      "<class 'pandas.core.frame.DataFrame'>\n",
      "RangeIndex: 67501979 entries, 0 to 67501978\n",
      "Data columns (total 9 columns):\n",
      " #   Column         Dtype  \n",
      "---  ------         -----  \n",
      " 0   event_time     object \n",
      " 1   event_type     object \n",
      " 2   product_id     int64  \n",
      " 3   category_id    int64  \n",
      " 4   category_code  object \n",
      " 5   brand          object \n",
      " 6   price          float64\n",
      " 7   user_id        int64  \n",
      " 8   user_session   object \n",
      "dtypes: float64(1), int64(3), object(5)\n",
      "memory usage: 4.5+ GB\n"
     ]
    }
   ],
   "source": [
    "nov_data.info()"
   ]
  },
  {
   "cell_type": "markdown",
   "metadata": {
    "id": "AkIoL6xPNYZd"
   },
   "source": [
    "### 1. 해당 전체 기간에서, KST 기준으로 active user 수가 제일 큰 날짜를 구하세요\n",
    "\n"
   ]
  },
  {
   "cell_type": "code",
   "execution_count": 5,
   "metadata": {
    "colab": {
     "base_uri": "https://localhost:8080/",
     "height": 585
    },
    "id": "kCRohdQYmyaK",
    "outputId": "3cf37265-e365-4223-86f8-9330f2121e8f"
   },
   "outputs": [
    {
     "data": {
      "text/html": [
       "<div>\n",
       "<style scoped>\n",
       "    .dataframe tbody tr th:only-of-type {\n",
       "        vertical-align: middle;\n",
       "    }\n",
       "\n",
       "    .dataframe tbody tr th {\n",
       "        vertical-align: top;\n",
       "    }\n",
       "\n",
       "    .dataframe thead th {\n",
       "        text-align: right;\n",
       "    }\n",
       "</style>\n",
       "<table border=\"1\" class=\"dataframe\">\n",
       "  <thead>\n",
       "    <tr style=\"text-align: right;\">\n",
       "      <th></th>\n",
       "      <th>event_time</th>\n",
       "      <th>event_type</th>\n",
       "      <th>product_id</th>\n",
       "      <th>category_id</th>\n",
       "      <th>category_code</th>\n",
       "      <th>brand</th>\n",
       "      <th>price</th>\n",
       "      <th>user_id</th>\n",
       "      <th>user_session</th>\n",
       "    </tr>\n",
       "  </thead>\n",
       "  <tbody>\n",
       "    <tr>\n",
       "      <th>0</th>\n",
       "      <td>2019-11-01 00:00:00</td>\n",
       "      <td>view</td>\n",
       "      <td>1003461</td>\n",
       "      <td>2053013555631882655</td>\n",
       "      <td>electronics.smartphone</td>\n",
       "      <td>xiaomi</td>\n",
       "      <td>489.07</td>\n",
       "      <td>520088904</td>\n",
       "      <td>4d3b30da-a5e4-49df-b1a8-ba5943f1dd33</td>\n",
       "    </tr>\n",
       "    <tr>\n",
       "      <th>1</th>\n",
       "      <td>2019-11-01 00:00:00</td>\n",
       "      <td>view</td>\n",
       "      <td>5000088</td>\n",
       "      <td>2053013566100866035</td>\n",
       "      <td>appliances.sewing_machine</td>\n",
       "      <td>janome</td>\n",
       "      <td>293.65</td>\n",
       "      <td>530496790</td>\n",
       "      <td>8e5f4f83-366c-4f70-860e-ca7417414283</td>\n",
       "    </tr>\n",
       "    <tr>\n",
       "      <th>3</th>\n",
       "      <td>2019-11-01 00:00:01</td>\n",
       "      <td>view</td>\n",
       "      <td>3601530</td>\n",
       "      <td>2053013563810775923</td>\n",
       "      <td>appliances.kitchen.washer</td>\n",
       "      <td>lg</td>\n",
       "      <td>712.87</td>\n",
       "      <td>518085591</td>\n",
       "      <td>3bfb58cd-7892-48cc-8020-2f17e6de6e7f</td>\n",
       "    </tr>\n",
       "    <tr>\n",
       "      <th>4</th>\n",
       "      <td>2019-11-01 00:00:01</td>\n",
       "      <td>view</td>\n",
       "      <td>1004775</td>\n",
       "      <td>2053013555631882655</td>\n",
       "      <td>electronics.smartphone</td>\n",
       "      <td>xiaomi</td>\n",
       "      <td>183.27</td>\n",
       "      <td>558856683</td>\n",
       "      <td>313628f1-68b8-460d-84f6-cec7a8796ef2</td>\n",
       "    </tr>\n",
       "    <tr>\n",
       "      <th>5</th>\n",
       "      <td>2019-11-01 00:00:01</td>\n",
       "      <td>view</td>\n",
       "      <td>1306894</td>\n",
       "      <td>2053013558920217191</td>\n",
       "      <td>computers.notebook</td>\n",
       "      <td>hp</td>\n",
       "      <td>360.09</td>\n",
       "      <td>520772685</td>\n",
       "      <td>816a59f3-f5ae-4ccd-9b23-82aa8c23d33c</td>\n",
       "    </tr>\n",
       "    <tr>\n",
       "      <th>...</th>\n",
       "      <td>...</td>\n",
       "      <td>...</td>\n",
       "      <td>...</td>\n",
       "      <td>...</td>\n",
       "      <td>...</td>\n",
       "      <td>...</td>\n",
       "      <td>...</td>\n",
       "      <td>...</td>\n",
       "      <td>...</td>\n",
       "    </tr>\n",
       "    <tr>\n",
       "      <th>67501972</th>\n",
       "      <td>2019-11-30 23:59:57</td>\n",
       "      <td>view</td>\n",
       "      <td>12301059</td>\n",
       "      <td>2053013556311359947</td>\n",
       "      <td>construction.tools.drill</td>\n",
       "      <td>bosch</td>\n",
       "      <td>266.16</td>\n",
       "      <td>562661595</td>\n",
       "      <td>7165dc28-9cba-40a0-9ed8-76fd909ccb3b</td>\n",
       "    </tr>\n",
       "    <tr>\n",
       "      <th>67501975</th>\n",
       "      <td>2019-11-30 23:59:58</td>\n",
       "      <td>view</td>\n",
       "      <td>28719425</td>\n",
       "      <td>2053013565639492569</td>\n",
       "      <td>apparel.shoes</td>\n",
       "      <td>baden</td>\n",
       "      <td>62.81</td>\n",
       "      <td>545223467</td>\n",
       "      <td>734c5eef-0742-4f8b-9d22-48f75b0bc359</td>\n",
       "    </tr>\n",
       "    <tr>\n",
       "      <th>67501976</th>\n",
       "      <td>2019-11-30 23:59:59</td>\n",
       "      <td>view</td>\n",
       "      <td>1004833</td>\n",
       "      <td>2053013555631882655</td>\n",
       "      <td>electronics.smartphone</td>\n",
       "      <td>samsung</td>\n",
       "      <td>167.03</td>\n",
       "      <td>557794415</td>\n",
       "      <td>6fecf566-ebb0-4e70-a243-cdc13ce044cb</td>\n",
       "    </tr>\n",
       "    <tr>\n",
       "      <th>67501977</th>\n",
       "      <td>2019-11-30 23:59:59</td>\n",
       "      <td>view</td>\n",
       "      <td>2701706</td>\n",
       "      <td>2053013563911439225</td>\n",
       "      <td>appliances.kitchen.refrigerators</td>\n",
       "      <td>samsung</td>\n",
       "      <td>566.27</td>\n",
       "      <td>531607492</td>\n",
       "      <td>368ddc8b-5db9-40fb-b7ff-b6582a1192c0</td>\n",
       "    </tr>\n",
       "    <tr>\n",
       "      <th>67501978</th>\n",
       "      <td>2019-11-30 23:59:59</td>\n",
       "      <td>view</td>\n",
       "      <td>1004233</td>\n",
       "      <td>2053013555631882655</td>\n",
       "      <td>electronics.smartphone</td>\n",
       "      <td>apple</td>\n",
       "      <td>1312.52</td>\n",
       "      <td>579969851</td>\n",
       "      <td>90aca71c-ed8a-4670-866a-761ebacb732d</td>\n",
       "    </tr>\n",
       "  </tbody>\n",
       "</table>\n",
       "<p>42089564 rows × 9 columns</p>\n",
       "</div>"
      ],
      "text/plain": [
       "                    event_time event_type  product_id          category_id  \\\n",
       "0         2019-11-01 00:00:00        view     1003461  2053013555631882655   \n",
       "1         2019-11-01 00:00:00        view     5000088  2053013566100866035   \n",
       "3         2019-11-01 00:00:01        view     3601530  2053013563810775923   \n",
       "4         2019-11-01 00:00:01        view     1004775  2053013555631882655   \n",
       "5         2019-11-01 00:00:01        view     1306894  2053013558920217191   \n",
       "...                        ...        ...         ...                  ...   \n",
       "67501972  2019-11-30 23:59:57        view    12301059  2053013556311359947   \n",
       "67501975  2019-11-30 23:59:58        view    28719425  2053013565639492569   \n",
       "67501976  2019-11-30 23:59:59        view     1004833  2053013555631882655   \n",
       "67501977  2019-11-30 23:59:59        view     2701706  2053013563911439225   \n",
       "67501978  2019-11-30 23:59:59        view     1004233  2053013555631882655   \n",
       "\n",
       "                             category_code    brand    price    user_id  \\\n",
       "0                   electronics.smartphone   xiaomi   489.07  520088904   \n",
       "1                appliances.sewing_machine   janome   293.65  530496790   \n",
       "3                appliances.kitchen.washer       lg   712.87  518085591   \n",
       "4                   electronics.smartphone   xiaomi   183.27  558856683   \n",
       "5                       computers.notebook       hp   360.09  520772685   \n",
       "...                                    ...      ...      ...        ...   \n",
       "67501972          construction.tools.drill    bosch   266.16  562661595   \n",
       "67501975                     apparel.shoes    baden    62.81  545223467   \n",
       "67501976            electronics.smartphone  samsung   167.03  557794415   \n",
       "67501977  appliances.kitchen.refrigerators  samsung   566.27  531607492   \n",
       "67501978            electronics.smartphone    apple  1312.52  579969851   \n",
       "\n",
       "                                  user_session  \n",
       "0         4d3b30da-a5e4-49df-b1a8-ba5943f1dd33  \n",
       "1         8e5f4f83-366c-4f70-860e-ca7417414283  \n",
       "3         3bfb58cd-7892-48cc-8020-2f17e6de6e7f  \n",
       "4         313628f1-68b8-460d-84f6-cec7a8796ef2  \n",
       "5         816a59f3-f5ae-4ccd-9b23-82aa8c23d33c  \n",
       "...                                        ...  \n",
       "67501972  7165dc28-9cba-40a0-9ed8-76fd909ccb3b  \n",
       "67501975  734c5eef-0742-4f8b-9d22-48f75b0bc359  \n",
       "67501976  6fecf566-ebb0-4e70-a243-cdc13ce044cb  \n",
       "67501977  368ddc8b-5db9-40fb-b7ff-b6582a1192c0  \n",
       "67501978  90aca71c-ed8a-4670-866a-761ebacb732d  \n",
       "\n",
       "[42089564 rows x 9 columns]"
      ]
     },
     "execution_count": 5,
     "metadata": {},
     "output_type": "execute_result"
    }
   ],
   "source": [
    "nov_data['event_time'] = nov_data[\"event_time\"].replace('UTC', '', regex=True) #KST 변환을 위해 UTC 제거 \n",
    "nov_data"
   ]
  },
  {
   "cell_type": "code",
   "execution_count": 6,
   "metadata": {
    "id": "SYsLjuDWmHdG"
   },
   "outputs": [],
   "source": [
    "format = '%Y-%m-%d %H:%M:%S' \n",
    "nov_data['event_time'] = pd.to_datetime(nov_data['event_time'], format=format) # str 형식을 datetime 형식으로 변환"
   ]
  },
  {
   "cell_type": "code",
   "execution_count": 7,
   "metadata": {
    "id": "u_sgYrTQEEUd"
   },
   "outputs": [],
   "source": [
    "nov_data['event_time'] = nov_data['event_time'] + datetime.timedelta(hours=9) #UTC KST 변환"
   ]
  },
  {
   "cell_type": "code",
   "execution_count": 8,
   "metadata": {
    "colab": {
     "base_uri": "https://localhost:8080/",
     "height": 35
    },
    "id": "ng4qPwN1EpU6",
    "outputId": "df13d55b-03a2-4413-892d-8b15da3cc1a0"
   },
   "outputs": [
    {
     "data": {
      "text/plain": [
       "'2019-11-17'"
      ]
     },
     "execution_count": 8,
     "metadata": {},
     "output_type": "execute_result"
    }
   ],
   "source": [
    "user_count  = nov_data['event_time'].dt.strftime('%Y-%m-%d').value_counts() #날짜별 active user user \n",
    "bigDate = user_count.index[0] #날짜별 active user user 중 가장큰  날짜\n",
    "bigDate"
   ]
  },
  {
   "cell_type": "markdown",
   "metadata": {
    "id": "ze9sh8EqRhJy"
   },
   "source": [
    "### 2. 1의 날짜에서, 세션이 가장 긴 사용자 10명에 대해 \"user_id, session_id, 세션시간\"를 구하세요\n",
    "- groupby 사용해서 수정"
   ]
  },
  {
   "cell_type": "code",
   "execution_count": 9,
   "metadata": {
    "id": "GNEauI2R53dt"
   },
   "outputs": [],
   "source": [
    "bigDate_list = nov_data[nov_data['event_time'].dt.strftime('%Y-%m-%d') ==bigDate ] # 전체 데이터중 1의 날짜에 해당하는 데이터만 추출 "
   ]
  },
  {
   "cell_type": "code",
   "execution_count": 10,
   "metadata": {
    "id": "qsM4GJlD_7UQ"
   },
   "outputs": [],
   "source": [
    "user_id_list = list(set(bigDate_list['user_id'])) # user_id 중복 제거 "
   ]
  },
  {
   "cell_type": "code",
   "execution_count": 11,
   "metadata": {
    "id": "hG5GMFgCEbcS"
   },
   "outputs": [],
   "source": [
    "session_time = []\n",
    "userId = []\n",
    "session_id = []\n",
    "for user_id in user_id_list:\n",
    "  session_cal = bigDate_list[bigDate_list['user_id']==user_id]\n",
    "  userId.append(session_cal['user_id'].values[0]) # 같은 값 이므로 첫번째 값을 대입  \n",
    "  session_id.append(session_cal['user_session'].values[0])\n",
    "  session_time.append(max(session_cal['event_time'])-min(session_cal['event_time']))\n",
    "\n",
    "long_session_user = pd.DataFrame({'user_id':userId,'session_id':session_id,'sesssion_time':session_time})"
   ]
  },
  {
   "cell_type": "code",
   "execution_count": 12,
   "metadata": {
    "colab": {
     "base_uri": "https://localhost:8080/",
     "height": 357
    },
    "id": "V1LnM6wk_DzL",
    "outputId": "871a4f6e-0f62-47af-d0a8-b285cd1e25e5"
   },
   "outputs": [
    {
     "data": {
      "text/html": [
       "<div>\n",
       "<style scoped>\n",
       "    .dataframe tbody tr th:only-of-type {\n",
       "        vertical-align: middle;\n",
       "    }\n",
       "\n",
       "    .dataframe tbody tr th {\n",
       "        vertical-align: top;\n",
       "    }\n",
       "\n",
       "    .dataframe thead th {\n",
       "        text-align: right;\n",
       "    }\n",
       "</style>\n",
       "<table border=\"1\" class=\"dataframe\">\n",
       "  <thead>\n",
       "    <tr style=\"text-align: right;\">\n",
       "      <th></th>\n",
       "      <th>user_id</th>\n",
       "      <th>session_id</th>\n",
       "      <th>sesssion_time</th>\n",
       "    </tr>\n",
       "  </thead>\n",
       "  <tbody>\n",
       "    <tr>\n",
       "      <th>0</th>\n",
       "      <td>536072091</td>\n",
       "      <td>16fa601b-2e32-43ac-a0d2-60047e26853f</td>\n",
       "      <td>0 days 23:59:40</td>\n",
       "    </tr>\n",
       "    <tr>\n",
       "      <th>1</th>\n",
       "      <td>515294646</td>\n",
       "      <td>1d9ccd34-1253-45dc-ba46-4dc262354918</td>\n",
       "      <td>0 days 23:59:14</td>\n",
       "    </tr>\n",
       "    <tr>\n",
       "      <th>2</th>\n",
       "      <td>521980816</td>\n",
       "      <td>ef27ad91-0c07-4eb5-83a1-606777f19d8e</td>\n",
       "      <td>0 days 23:59:11</td>\n",
       "    </tr>\n",
       "    <tr>\n",
       "      <th>3</th>\n",
       "      <td>515771922</td>\n",
       "      <td>25f8117a-f23e-43e9-8ba4-522a186b178f</td>\n",
       "      <td>0 days 23:59:08</td>\n",
       "    </tr>\n",
       "    <tr>\n",
       "      <th>4</th>\n",
       "      <td>522472133</td>\n",
       "      <td>a6152fc8-2999-46a9-be47-f873a9ff90fc</td>\n",
       "      <td>0 days 23:59:07</td>\n",
       "    </tr>\n",
       "    <tr>\n",
       "      <th>5</th>\n",
       "      <td>513794814</td>\n",
       "      <td>e82383d6-0ba5-4787-83da-2e0454efbd15</td>\n",
       "      <td>0 days 23:59:07</td>\n",
       "    </tr>\n",
       "    <tr>\n",
       "      <th>6</th>\n",
       "      <td>515396681</td>\n",
       "      <td>536f23a4-4789-4522-800b-cd1f884feaa4</td>\n",
       "      <td>0 days 23:59:06</td>\n",
       "    </tr>\n",
       "    <tr>\n",
       "      <th>7</th>\n",
       "      <td>514277767</td>\n",
       "      <td>1a844962-705d-4bdc-ad00-69495a36a15c</td>\n",
       "      <td>0 days 23:59:05</td>\n",
       "    </tr>\n",
       "    <tr>\n",
       "      <th>8</th>\n",
       "      <td>536580231</td>\n",
       "      <td>b50f4571-71fb-4535-b0b0-f70d20328463</td>\n",
       "      <td>0 days 23:59:02</td>\n",
       "    </tr>\n",
       "    <tr>\n",
       "      <th>9</th>\n",
       "      <td>512942880</td>\n",
       "      <td>b47f129e-d9d7-48e7-b038-a8a018e401c9</td>\n",
       "      <td>0 days 23:59:02</td>\n",
       "    </tr>\n",
       "  </tbody>\n",
       "</table>\n",
       "</div>"
      ],
      "text/plain": [
       "     user_id                            session_id   sesssion_time\n",
       "0  536072091  16fa601b-2e32-43ac-a0d2-60047e26853f 0 days 23:59:40\n",
       "1  515294646  1d9ccd34-1253-45dc-ba46-4dc262354918 0 days 23:59:14\n",
       "2  521980816  ef27ad91-0c07-4eb5-83a1-606777f19d8e 0 days 23:59:11\n",
       "3  515771922  25f8117a-f23e-43e9-8ba4-522a186b178f 0 days 23:59:08\n",
       "4  522472133  a6152fc8-2999-46a9-be47-f873a9ff90fc 0 days 23:59:07\n",
       "5  513794814  e82383d6-0ba5-4787-83da-2e0454efbd15 0 days 23:59:07\n",
       "6  515396681  536f23a4-4789-4522-800b-cd1f884feaa4 0 days 23:59:06\n",
       "7  514277767  1a844962-705d-4bdc-ad00-69495a36a15c 0 days 23:59:05\n",
       "8  536580231  b50f4571-71fb-4535-b0b0-f70d20328463 0 days 23:59:02\n",
       "9  512942880  b47f129e-d9d7-48e7-b038-a8a018e401c9 0 days 23:59:02"
      ]
     },
     "execution_count": 12,
     "metadata": {},
     "output_type": "execute_result"
    }
   ],
   "source": [
    "long_session_user = long_session_user.sort_values(by=['sesssion_time'], axis=0,ascending=False)[0:10].reset_index(drop=True)\n",
    "long_session_user"
   ]
  },
  {
   "cell_type": "markdown",
   "metadata": {
    "id": "Lv5cNzzgRFXY"
   },
   "source": [
    "### 3. 1의 날짜의 15분단위로 active user 수를 구하세요\n"
   ]
  },
  {
   "cell_type": "code",
   "execution_count": 13,
   "metadata": {
    "colab": {
     "base_uri": "https://localhost:8080/"
    },
    "id": "NK78umxgRFtV",
    "outputId": "899db531-8c02-4d27-98bf-eafdedbe9b16"
   },
   "outputs": [
    {
     "data": {
      "text/plain": [
       "event_time\n",
       "2019-11-17 00:00:00    49379\n",
       "2019-11-17 00:15:00    45030\n",
       "2019-11-17 00:30:00    47724\n",
       "2019-11-17 00:45:00    55415\n",
       "2019-11-17 01:00:00    52098\n",
       "                       ...  \n",
       "2019-11-17 22:45:00    73962\n",
       "2019-11-17 23:00:00    72523\n",
       "2019-11-17 23:15:00    73616\n",
       "2019-11-17 23:30:00    75803\n",
       "2019-11-17 23:45:00    76207\n",
       "Freq: 15T, Name: user_id, Length: 96, dtype: int64"
      ]
     },
     "execution_count": 13,
     "metadata": {},
     "output_type": "execute_result"
    }
   ],
   "source": [
    "bigDate_list.resample('15T', on='event_time').user_id.count()"
   ]
  },
  {
   "cell_type": "markdown",
   "metadata": {
    "id": "KF5z-C8YtDgJ"
   },
   "source": [
    "### 4. 1의 날짜에서 view → cart → purchase 이벤트 진행에 따른 funnel 수치를 구하세요"
   ]
  },
  {
   "cell_type": "markdown",
   "metadata": {
    "id": "hUyOTBxqQvOg"
   },
   "source": [
    "- view,  cart, purchase 3개의 구간으로 구분을 해준다"
   ]
  },
  {
   "cell_type": "code",
   "execution_count": 14,
   "metadata": {
    "colab": {
     "base_uri": "https://localhost:8080/",
     "height": 142
    },
    "id": "sz7tKzGjSbJP",
    "outputId": "38108b72-5ee4-4756-e6e5-e15446987d98"
   },
   "outputs": [
    {
     "data": {
      "text/html": [
       "<div>\n",
       "<style scoped>\n",
       "    .dataframe tbody tr th:only-of-type {\n",
       "        vertical-align: middle;\n",
       "    }\n",
       "\n",
       "    .dataframe tbody tr th {\n",
       "        vertical-align: top;\n",
       "    }\n",
       "\n",
       "    .dataframe thead th {\n",
       "        text-align: right;\n",
       "    }\n",
       "</style>\n",
       "<table border=\"1\" class=\"dataframe\">\n",
       "  <thead>\n",
       "    <tr style=\"text-align: right;\">\n",
       "      <th></th>\n",
       "      <th>step_no</th>\n",
       "    </tr>\n",
       "  </thead>\n",
       "  <tbody>\n",
       "    <tr>\n",
       "      <th>view</th>\n",
       "      <td>1</td>\n",
       "    </tr>\n",
       "    <tr>\n",
       "      <th>cart</th>\n",
       "      <td>2</td>\n",
       "    </tr>\n",
       "    <tr>\n",
       "      <th>purchase</th>\n",
       "      <td>3</td>\n",
       "    </tr>\n",
       "  </tbody>\n",
       "</table>\n",
       "</div>"
      ],
      "text/plain": [
       "          step_no\n",
       "view            1\n",
       "cart            2\n",
       "purchase        3"
      ]
     },
     "execution_count": 14,
     "metadata": {},
     "output_type": "execute_result"
    }
   ],
   "source": [
    "funnel_dict = {'view':1,'cart':2,'purchase':3}\n",
    "funnel_steps = pd.DataFrame.from_dict(funnel_dict,orient='index',columns=['step_no'])\n",
    "funnel_steps\n",
    "#|bigDate_list[bigDate_list['user_id']==557746614]"
   ]
  },
  {
   "cell_type": "code",
   "execution_count": 15,
   "metadata": {
    "colab": {
     "base_uri": "https://localhost:8080/",
     "height": 447
    },
    "id": "466Lr6bcSt7T",
    "outputId": "2ee7074d-3277-432c-8782-23dbd771b198"
   },
   "outputs": [
    {
     "data": {
      "text/html": [
       "<div>\n",
       "<style scoped>\n",
       "    .dataframe tbody tr th:only-of-type {\n",
       "        vertical-align: middle;\n",
       "    }\n",
       "\n",
       "    .dataframe tbody tr th {\n",
       "        vertical-align: top;\n",
       "    }\n",
       "\n",
       "    .dataframe thead th {\n",
       "        text-align: right;\n",
       "    }\n",
       "</style>\n",
       "<table border=\"1\" class=\"dataframe\">\n",
       "  <thead>\n",
       "    <tr style=\"text-align: right;\">\n",
       "      <th></th>\n",
       "      <th></th>\n",
       "      <th>event_time</th>\n",
       "      <th>step_no</th>\n",
       "    </tr>\n",
       "    <tr>\n",
       "      <th>user_session</th>\n",
       "      <th>event_type</th>\n",
       "      <th></th>\n",
       "      <th></th>\n",
       "    </tr>\n",
       "  </thead>\n",
       "  <tbody>\n",
       "    <tr>\n",
       "      <th>00000616-f016-4c01-b323-438486d9d3ee</th>\n",
       "      <th>view</th>\n",
       "      <td>2019-11-17 14:36:28</td>\n",
       "      <td>1</td>\n",
       "    </tr>\n",
       "    <tr>\n",
       "      <th>00002e0a-8b74-4c72-bb5a-99e04fa264da</th>\n",
       "      <th>view</th>\n",
       "      <td>2019-11-17 17:22:06</td>\n",
       "      <td>1</td>\n",
       "    </tr>\n",
       "    <tr>\n",
       "      <th>00004c44-9765-4216-aafd-0ede55aad240</th>\n",
       "      <th>view</th>\n",
       "      <td>2019-11-17 23:00:14</td>\n",
       "      <td>1</td>\n",
       "    </tr>\n",
       "    <tr>\n",
       "      <th>00005114-2d52-4a59-ac08-ec71bbaf24db</th>\n",
       "      <th>view</th>\n",
       "      <td>2019-11-17 22:28:30</td>\n",
       "      <td>1</td>\n",
       "    </tr>\n",
       "    <tr>\n",
       "      <th>00006a96-5e74-427a-97f9-5d9cdf4a2de1</th>\n",
       "      <th>view</th>\n",
       "      <td>2019-11-17 21:59:41</td>\n",
       "      <td>1</td>\n",
       "    </tr>\n",
       "    <tr>\n",
       "      <th>...</th>\n",
       "      <th>...</th>\n",
       "      <td>...</td>\n",
       "      <td>...</td>\n",
       "    </tr>\n",
       "    <tr>\n",
       "      <th>fffa719c-33d7-4e9b-975d-b952768f6db4</th>\n",
       "      <th>purchase</th>\n",
       "      <td>2019-11-17 23:53:01</td>\n",
       "      <td>3</td>\n",
       "    </tr>\n",
       "    <tr>\n",
       "      <th>fffb1d5d-2b83-4016-8d2b-896514ab3c84</th>\n",
       "      <th>purchase</th>\n",
       "      <td>2019-11-17 20:11:38</td>\n",
       "      <td>3</td>\n",
       "    </tr>\n",
       "    <tr>\n",
       "      <th>fffd5e32-830d-4758-be7d-b9d121556a18</th>\n",
       "      <th>purchase</th>\n",
       "      <td>2019-11-17 15:48:39</td>\n",
       "      <td>3</td>\n",
       "    </tr>\n",
       "    <tr>\n",
       "      <th>ffffb69f-e3f9-4271-876f-d894920fa911</th>\n",
       "      <th>purchase</th>\n",
       "      <td>2019-11-17 23:47:28</td>\n",
       "      <td>3</td>\n",
       "    </tr>\n",
       "    <tr>\n",
       "      <th>fffffd01-5f95-4916-b2dd-491c603d6c9c</th>\n",
       "      <th>purchase</th>\n",
       "      <td>2019-11-17 23:12:02</td>\n",
       "      <td>3</td>\n",
       "    </tr>\n",
       "  </tbody>\n",
       "</table>\n",
       "<p>992638 rows × 2 columns</p>\n",
       "</div>"
      ],
      "text/plain": [
       "                                                         event_time  step_no\n",
       "user_session                         event_type                             \n",
       "00000616-f016-4c01-b323-438486d9d3ee view       2019-11-17 14:36:28        1\n",
       "00002e0a-8b74-4c72-bb5a-99e04fa264da view       2019-11-17 17:22:06        1\n",
       "00004c44-9765-4216-aafd-0ede55aad240 view       2019-11-17 23:00:14        1\n",
       "00005114-2d52-4a59-ac08-ec71bbaf24db view       2019-11-17 22:28:30        1\n",
       "00006a96-5e74-427a-97f9-5d9cdf4a2de1 view       2019-11-17 21:59:41        1\n",
       "...                                                             ...      ...\n",
       "fffa719c-33d7-4e9b-975d-b952768f6db4 purchase   2019-11-17 23:53:01        3\n",
       "fffb1d5d-2b83-4016-8d2b-896514ab3c84 purchase   2019-11-17 20:11:38        3\n",
       "fffd5e32-830d-4758-be7d-b9d121556a18 purchase   2019-11-17 15:48:39        3\n",
       "ffffb69f-e3f9-4271-876f-d894920fa911 purchase   2019-11-17 23:47:28        3\n",
       "fffffd01-5f95-4916-b2dd-491c603d6c9c purchase   2019-11-17 23:12:02        3\n",
       "\n",
       "[992638 rows x 2 columns]"
      ]
     },
     "execution_count": 15,
     "metadata": {},
     "output_type": "execute_result"
    }
   ],
   "source": [
    "grouped = bigDate_list.groupby(['user_session','event_type'])['event_time'].agg(np.min) ##\n",
    "grouped = pd.DataFrame(grouped).merge(funnel_steps,left_on='event_type',right_index=True)\n",
    "grouped"
   ]
  },
  {
   "cell_type": "code",
   "execution_count": 16,
   "metadata": {
    "colab": {
     "base_uri": "https://localhost:8080/",
     "height": 447
    },
    "id": "MnmZiw76hqgQ",
    "outputId": "d25ad7db-a549-4be4-f7e7-68c816ec1833"
   },
   "outputs": [
    {
     "data": {
      "text/html": [
       "<div>\n",
       "<style scoped>\n",
       "    .dataframe tbody tr th:only-of-type {\n",
       "        vertical-align: middle;\n",
       "    }\n",
       "\n",
       "    .dataframe tbody tr th {\n",
       "        vertical-align: top;\n",
       "    }\n",
       "\n",
       "    .dataframe thead th {\n",
       "        text-align: right;\n",
       "    }\n",
       "</style>\n",
       "<table border=\"1\" class=\"dataframe\">\n",
       "  <thead>\n",
       "    <tr style=\"text-align: right;\">\n",
       "      <th>step_no</th>\n",
       "      <th>1</th>\n",
       "      <th>2</th>\n",
       "      <th>3</th>\n",
       "    </tr>\n",
       "    <tr>\n",
       "      <th>user_session</th>\n",
       "      <th></th>\n",
       "      <th></th>\n",
       "      <th></th>\n",
       "    </tr>\n",
       "  </thead>\n",
       "  <tbody>\n",
       "    <tr>\n",
       "      <th>00000616-f016-4c01-b323-438486d9d3ee</th>\n",
       "      <td>2019-11-17 14:36:28</td>\n",
       "      <td>NaT</td>\n",
       "      <td>NaT</td>\n",
       "    </tr>\n",
       "    <tr>\n",
       "      <th>00002e0a-8b74-4c72-bb5a-99e04fa264da</th>\n",
       "      <td>2019-11-17 17:22:06</td>\n",
       "      <td>NaT</td>\n",
       "      <td>NaT</td>\n",
       "    </tr>\n",
       "    <tr>\n",
       "      <th>00004c44-9765-4216-aafd-0ede55aad240</th>\n",
       "      <td>2019-11-17 23:00:14</td>\n",
       "      <td>NaT</td>\n",
       "      <td>NaT</td>\n",
       "    </tr>\n",
       "    <tr>\n",
       "      <th>00005114-2d52-4a59-ac08-ec71bbaf24db</th>\n",
       "      <td>2019-11-17 22:28:30</td>\n",
       "      <td>2019-11-17 22:31:26</td>\n",
       "      <td>NaT</td>\n",
       "    </tr>\n",
       "    <tr>\n",
       "      <th>00006a96-5e74-427a-97f9-5d9cdf4a2de1</th>\n",
       "      <td>2019-11-17 21:59:41</td>\n",
       "      <td>NaT</td>\n",
       "      <td>NaT</td>\n",
       "    </tr>\n",
       "    <tr>\n",
       "      <th>...</th>\n",
       "      <td>...</td>\n",
       "      <td>...</td>\n",
       "      <td>...</td>\n",
       "    </tr>\n",
       "    <tr>\n",
       "      <th>ffffbf33-ea0f-4f96-8908-226feafaf7d3</th>\n",
       "      <td>2019-11-17 23:25:03</td>\n",
       "      <td>2019-11-17 23:25:17</td>\n",
       "      <td>NaT</td>\n",
       "    </tr>\n",
       "    <tr>\n",
       "      <th>ffffd424-f747-4a57-aaee-0735b4e2c291</th>\n",
       "      <td>2019-11-17 12:40:39</td>\n",
       "      <td>NaT</td>\n",
       "      <td>NaT</td>\n",
       "    </tr>\n",
       "    <tr>\n",
       "      <th>ffffee94-7d46-454c-b12b-19e6f78fa18b</th>\n",
       "      <td>2019-11-17 17:12:53</td>\n",
       "      <td>NaT</td>\n",
       "      <td>NaT</td>\n",
       "    </tr>\n",
       "    <tr>\n",
       "      <th>fffffbbe-9f76-403b-b17c-e7c68c48ea1c</th>\n",
       "      <td>2019-11-17 18:43:04</td>\n",
       "      <td>NaT</td>\n",
       "      <td>NaT</td>\n",
       "    </tr>\n",
       "    <tr>\n",
       "      <th>fffffd01-5f95-4916-b2dd-491c603d6c9c</th>\n",
       "      <td>2019-11-17 23:07:11</td>\n",
       "      <td>2019-11-17 23:07:42</td>\n",
       "      <td>2019-11-17 23:12:02</td>\n",
       "    </tr>\n",
       "  </tbody>\n",
       "</table>\n",
       "<p>738836 rows × 3 columns</p>\n",
       "</div>"
      ],
      "text/plain": [
       "step_no                                                1                   2  \\\n",
       "user_session                                                                   \n",
       "00000616-f016-4c01-b323-438486d9d3ee 2019-11-17 14:36:28                 NaT   \n",
       "00002e0a-8b74-4c72-bb5a-99e04fa264da 2019-11-17 17:22:06                 NaT   \n",
       "00004c44-9765-4216-aafd-0ede55aad240 2019-11-17 23:00:14                 NaT   \n",
       "00005114-2d52-4a59-ac08-ec71bbaf24db 2019-11-17 22:28:30 2019-11-17 22:31:26   \n",
       "00006a96-5e74-427a-97f9-5d9cdf4a2de1 2019-11-17 21:59:41                 NaT   \n",
       "...                                                  ...                 ...   \n",
       "ffffbf33-ea0f-4f96-8908-226feafaf7d3 2019-11-17 23:25:03 2019-11-17 23:25:17   \n",
       "ffffd424-f747-4a57-aaee-0735b4e2c291 2019-11-17 12:40:39                 NaT   \n",
       "ffffee94-7d46-454c-b12b-19e6f78fa18b 2019-11-17 17:12:53                 NaT   \n",
       "fffffbbe-9f76-403b-b17c-e7c68c48ea1c 2019-11-17 18:43:04                 NaT   \n",
       "fffffd01-5f95-4916-b2dd-491c603d6c9c 2019-11-17 23:07:11 2019-11-17 23:07:42   \n",
       "\n",
       "step_no                                                3  \n",
       "user_session                                              \n",
       "00000616-f016-4c01-b323-438486d9d3ee                 NaT  \n",
       "00002e0a-8b74-4c72-bb5a-99e04fa264da                 NaT  \n",
       "00004c44-9765-4216-aafd-0ede55aad240                 NaT  \n",
       "00005114-2d52-4a59-ac08-ec71bbaf24db                 NaT  \n",
       "00006a96-5e74-427a-97f9-5d9cdf4a2de1                 NaT  \n",
       "...                                                  ...  \n",
       "ffffbf33-ea0f-4f96-8908-226feafaf7d3                 NaT  \n",
       "ffffd424-f747-4a57-aaee-0735b4e2c291                 NaT  \n",
       "ffffee94-7d46-454c-b12b-19e6f78fa18b                 NaT  \n",
       "fffffbbe-9f76-403b-b17c-e7c68c48ea1c                 NaT  \n",
       "fffffd01-5f95-4916-b2dd-491c603d6c9c 2019-11-17 23:12:02  \n",
       "\n",
       "[738836 rows x 3 columns]"
      ]
     },
     "execution_count": 16,
     "metadata": {},
     "output_type": "execute_result"
    }
   ],
   "source": [
    "funnel = grouped.reset_index().pivot(index='user_session',columns='step_no',values='event_time')\n",
    "funnel"
   ]
  },
  {
   "cell_type": "code",
   "execution_count": 17,
   "metadata": {
    "colab": {
     "base_uri": "https://localhost:8080/",
     "height": 447
    },
    "id": "0r1TT9RviUao",
    "outputId": "fecf22bc-a3ce-46a6-df28-14bbfe32d0a6"
   },
   "outputs": [
    {
     "data": {
      "text/html": [
       "<div>\n",
       "<style scoped>\n",
       "    .dataframe tbody tr th:only-of-type {\n",
       "        vertical-align: middle;\n",
       "    }\n",
       "\n",
       "    .dataframe tbody tr th {\n",
       "        vertical-align: top;\n",
       "    }\n",
       "\n",
       "    .dataframe thead th {\n",
       "        text-align: right;\n",
       "    }\n",
       "</style>\n",
       "<table border=\"1\" class=\"dataframe\">\n",
       "  <thead>\n",
       "    <tr style=\"text-align: right;\">\n",
       "      <th></th>\n",
       "      <th>view</th>\n",
       "      <th>cart</th>\n",
       "      <th>purchase</th>\n",
       "    </tr>\n",
       "    <tr>\n",
       "      <th>user_session</th>\n",
       "      <th></th>\n",
       "      <th></th>\n",
       "      <th></th>\n",
       "    </tr>\n",
       "  </thead>\n",
       "  <tbody>\n",
       "    <tr>\n",
       "      <th>00000616-f016-4c01-b323-438486d9d3ee</th>\n",
       "      <td>2019-11-17 14:36:28</td>\n",
       "      <td>NaT</td>\n",
       "      <td>NaT</td>\n",
       "    </tr>\n",
       "    <tr>\n",
       "      <th>00002e0a-8b74-4c72-bb5a-99e04fa264da</th>\n",
       "      <td>2019-11-17 17:22:06</td>\n",
       "      <td>NaT</td>\n",
       "      <td>NaT</td>\n",
       "    </tr>\n",
       "    <tr>\n",
       "      <th>00004c44-9765-4216-aafd-0ede55aad240</th>\n",
       "      <td>2019-11-17 23:00:14</td>\n",
       "      <td>NaT</td>\n",
       "      <td>NaT</td>\n",
       "    </tr>\n",
       "    <tr>\n",
       "      <th>00005114-2d52-4a59-ac08-ec71bbaf24db</th>\n",
       "      <td>2019-11-17 22:28:30</td>\n",
       "      <td>2019-11-17 22:31:26</td>\n",
       "      <td>NaT</td>\n",
       "    </tr>\n",
       "    <tr>\n",
       "      <th>00006a96-5e74-427a-97f9-5d9cdf4a2de1</th>\n",
       "      <td>2019-11-17 21:59:41</td>\n",
       "      <td>NaT</td>\n",
       "      <td>NaT</td>\n",
       "    </tr>\n",
       "    <tr>\n",
       "      <th>...</th>\n",
       "      <td>...</td>\n",
       "      <td>...</td>\n",
       "      <td>...</td>\n",
       "    </tr>\n",
       "    <tr>\n",
       "      <th>ffffbf33-ea0f-4f96-8908-226feafaf7d3</th>\n",
       "      <td>2019-11-17 23:25:03</td>\n",
       "      <td>2019-11-17 23:25:17</td>\n",
       "      <td>NaT</td>\n",
       "    </tr>\n",
       "    <tr>\n",
       "      <th>ffffd424-f747-4a57-aaee-0735b4e2c291</th>\n",
       "      <td>2019-11-17 12:40:39</td>\n",
       "      <td>NaT</td>\n",
       "      <td>NaT</td>\n",
       "    </tr>\n",
       "    <tr>\n",
       "      <th>ffffee94-7d46-454c-b12b-19e6f78fa18b</th>\n",
       "      <td>2019-11-17 17:12:53</td>\n",
       "      <td>NaT</td>\n",
       "      <td>NaT</td>\n",
       "    </tr>\n",
       "    <tr>\n",
       "      <th>fffffbbe-9f76-403b-b17c-e7c68c48ea1c</th>\n",
       "      <td>2019-11-17 18:43:04</td>\n",
       "      <td>NaT</td>\n",
       "      <td>NaT</td>\n",
       "    </tr>\n",
       "    <tr>\n",
       "      <th>fffffd01-5f95-4916-b2dd-491c603d6c9c</th>\n",
       "      <td>2019-11-17 23:07:11</td>\n",
       "      <td>2019-11-17 23:07:42</td>\n",
       "      <td>2019-11-17 23:12:02</td>\n",
       "    </tr>\n",
       "  </tbody>\n",
       "</table>\n",
       "<p>738836 rows × 3 columns</p>\n",
       "</div>"
      ],
      "text/plain": [
       "                                                    view                cart  \\\n",
       "user_session                                                                   \n",
       "00000616-f016-4c01-b323-438486d9d3ee 2019-11-17 14:36:28                 NaT   \n",
       "00002e0a-8b74-4c72-bb5a-99e04fa264da 2019-11-17 17:22:06                 NaT   \n",
       "00004c44-9765-4216-aafd-0ede55aad240 2019-11-17 23:00:14                 NaT   \n",
       "00005114-2d52-4a59-ac08-ec71bbaf24db 2019-11-17 22:28:30 2019-11-17 22:31:26   \n",
       "00006a96-5e74-427a-97f9-5d9cdf4a2de1 2019-11-17 21:59:41                 NaT   \n",
       "...                                                  ...                 ...   \n",
       "ffffbf33-ea0f-4f96-8908-226feafaf7d3 2019-11-17 23:25:03 2019-11-17 23:25:17   \n",
       "ffffd424-f747-4a57-aaee-0735b4e2c291 2019-11-17 12:40:39                 NaT   \n",
       "ffffee94-7d46-454c-b12b-19e6f78fa18b 2019-11-17 17:12:53                 NaT   \n",
       "fffffbbe-9f76-403b-b17c-e7c68c48ea1c 2019-11-17 18:43:04                 NaT   \n",
       "fffffd01-5f95-4916-b2dd-491c603d6c9c 2019-11-17 23:07:11 2019-11-17 23:07:42   \n",
       "\n",
       "                                                purchase  \n",
       "user_session                                              \n",
       "00000616-f016-4c01-b323-438486d9d3ee                 NaT  \n",
       "00002e0a-8b74-4c72-bb5a-99e04fa264da                 NaT  \n",
       "00004c44-9765-4216-aafd-0ede55aad240                 NaT  \n",
       "00005114-2d52-4a59-ac08-ec71bbaf24db                 NaT  \n",
       "00006a96-5e74-427a-97f9-5d9cdf4a2de1                 NaT  \n",
       "...                                                  ...  \n",
       "ffffbf33-ea0f-4f96-8908-226feafaf7d3                 NaT  \n",
       "ffffd424-f747-4a57-aaee-0735b4e2c291                 NaT  \n",
       "ffffee94-7d46-454c-b12b-19e6f78fa18b                 NaT  \n",
       "fffffbbe-9f76-403b-b17c-e7c68c48ea1c                 NaT  \n",
       "fffffd01-5f95-4916-b2dd-491c603d6c9c 2019-11-17 23:12:02  \n",
       "\n",
       "[738836 rows x 3 columns]"
      ]
     },
     "execution_count": 17,
     "metadata": {},
     "output_type": "execute_result"
    }
   ],
   "source": [
    "funnel.columns = funnel_steps.index\n",
    "funnel"
   ]
  },
  {
   "cell_type": "code",
   "execution_count": 18,
   "metadata": {
    "colab": {
     "base_uri": "https://localhost:8080/"
    },
    "id": "Y9P5AwoILSph",
    "outputId": "5edc7abc-3644-4ba7-ee6e-16075406d0f0"
   },
   "outputs": [
    {
     "data": {
      "text/plain": [
       "[734771, 168761, 89106]"
      ]
     },
     "execution_count": 18,
     "metadata": {},
     "output_type": "execute_result"
    }
   ],
   "source": [
    "step_values = [funnel[column].notnull().sum() for column in funnel.columns]\n",
    "step_values"
   ]
  },
  {
   "cell_type": "code",
   "execution_count": 19,
   "metadata": {
    "colab": {
     "base_uri": "https://localhost:8080/"
    },
    "id": "5Ft41LNZo7Q0",
    "outputId": "d3370732-46a1-454f-8ca1-add15e9f1e24"
   },
   "outputs": [
    {
     "data": {
      "text/plain": [
       "Index(['view', 'cart', 'purchase'], dtype='object')"
      ]
     },
     "execution_count": 19,
     "metadata": {},
     "output_type": "execute_result"
    }
   ],
   "source": [
    "funnel.columns"
   ]
  },
  {
   "cell_type": "code",
   "execution_count": 20,
   "metadata": {
    "colab": {
     "base_uri": "https://localhost:8080/",
     "height": 265
    },
    "id": "QBzZ4DI6lBuh",
    "outputId": "197b6593-fab9-41ea-b475-a04ad5f7b1b3"
   },
   "outputs": [
    {
     "data": {
      "image/png": "[encoded data removed]",
      "text/plain": [
       "<Figure size 432x288 with 1 Axes>"
      ]
     },
     "metadata": {
      "needs_background": "light"
     },
     "output_type": "display_data"
    }
   ],
   "source": [
    "x = np.arange(3)\n",
    "years = funnel.columns\n",
    "values = step_values\n",
    "colors = ['dodgerblue', 'g', 'r']\n",
    "\n",
    "plt.bar(x, values, color=colors)\n",
    "plt.xticks(x, years)\n",
    "\n",
    "plt.show()"
   ]
  },
  {
   "cell_type": "code",
   "execution_count": 21,
   "metadata": {
    "colab": {
     "base_uri": "https://localhost:8080/"
    },
    "id": "Av_SD1wTmjvr",
    "outputId": "9bb14a26-af2b-41f4-e4d0-b0118fd3a5a6"
   },
   "outputs": [
    {
     "data": {
      "text/plain": [
       "Timedelta('0 days 00:06:02.372699644')"
      ]
     },
     "execution_count": 21,
     "metadata": {},
     "output_type": "execute_result"
    }
   ],
   "source": [
    "np.mean(funnel['cart']-funnel['view'])"
   ]
  },
  {
   "cell_type": "code",
   "execution_count": 22,
   "metadata": {
    "colab": {
     "base_uri": "https://localhost:8080/"
    },
    "id": "0UqJ1sXOsu7W",
    "outputId": "8a432e45-de80-4db9-ed51-22c7e02674b3"
   },
   "outputs": [
    {
     "data": {
      "text/plain": [
       "Timedelta('0 days 00:03:36.733518417')"
      ]
     },
     "execution_count": 22,
     "metadata": {},
     "output_type": "execute_result"
    }
   ],
   "source": [
    "np.mean(funnel['purchase']-funnel['cart'])"
   ]
  },
  {
   "cell_type": "code",
   "execution_count": null,
   "metadata": {
    "id": "lwqZaFWNswSk"
   },
   "outputs": [],
   "source": []
  }
 ],
 "metadata": {
  "colab": {
   "collapsed_sections": [],
   "name": "kimtaewon.ipynb",
   "provenance": []
  },
  "kernelspec": {
   "display_name": "Python 3",
   "language": "python",
   "name": "python3"
  },
  "language_info": {
   "codemirror_mode": {
    "name": "ipython",
    "version": 3
   },
   "file_extension": ".py",
   "mimetype": "text/x-python",
   "name": "python",
   "nbconvert_exporter": "python",
   "pygments_lexer": "ipython3",
   "version": "3.8.8"
  }
 },
 "nbformat": 4,
 "nbformat_minor": 1
}
